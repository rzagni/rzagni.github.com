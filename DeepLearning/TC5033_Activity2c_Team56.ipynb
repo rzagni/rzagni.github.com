{
  "cells": [
    {
      "cell_type": "markdown",
      "metadata": {
        "id": "view-in-github",
        "colab_type": "text"
      },
      "source": [
        "<a href=\"https://colab.research.google.com/github/rzagni/rzagni.github.com/blob/main/DeepLearning/TC5033_Activity2c_Team56.ipynb\" target=\"_parent\"><img src=\"https://colab.research.google.com/assets/colab-badge.svg\" alt=\"Open In Colab\"/></a>"
      ]
    },
    {
      "cell_type": "markdown",
      "source": [
        "#**Maestría en Inteligencia Artificial Aplicada**\n",
        "##**Curso: Advanced Machine Learning Methods**\n",
        "###**Tecnológico de Monterrey**\n",
        "###**Prof José Antonio Cantoral Ceballos**\n",
        "\n",
        "\n",
        "###**Activity 2c: Exploring Transfer Learning with CIFAR-10**\n",
        "\n",
        "#### **Team 56:**\n",
        "\n",
        "* Daniel Ruiz Gutiérrez A01100513\n",
        "* José Manuel GarcÍa Ogarrio A01795147\n",
        "* Miriam Bönsch A01330346\n",
        "* Raul Eduardo Gomez Godinez A01795214\n",
        "* Renzo Zagni A01795457\n",
        "* Roger Alexei Urrutia ParKer A01362405\n"
      ],
      "metadata": {
        "id": "xPbz0GmxvXi2"
      }
    },
    {
      "cell_type": "markdown",
      "metadata": {
        "id": "9ZK9FNbMH9Pe"
      },
      "source": [
        "# TC 5033\n",
        "## Deep Learning\n",
        "## Transfer Learning\n",
        "\n",
        "<br>\n",
        "\n",
        "#### Activity 2c: Exploring Transfer Learning with CIFAR-10\n",
        "<br>\n",
        "\n",
        "- Objective:\n",
        "\n",
        "    In this activity, you'll study the concept of Transfer Learning, a powerful technique to improve the performance of your models by leveraging pre-trained architectures. The provided notebook offers a complete solution using a specific pre-trained model on the CIFAR-10 dataset. Your task is to extend this by trying out two other pre-trained models.\n",
        "    \n",
        "- Instructions:\n",
        "\n",
        "    This activity should be submitted in the same format as previous activities. Remember to include the names of all team members in a markdown cell at the beginning of the notebook. The grade obtained in this notebook will be averaged with that of Activity 2b, for the grade of Activity 2.    \n",
        "\n",
        "    Study the Provided Code: The provided notebook has a complete Transfer Learning solution using a particular pre-trained model. Make sure you understand the flow of the code and the role of each component.\n",
        "\n",
        "    Select Two Other Pre-trained Models: Choose two different pre-trained models available in PyTorch's model zoo.\n",
        "\n",
        "    Apply Transfer Learning: Add cells to implement Transfer Learning using the two models you've chosen. Train these models on the CIFAR-10 dataset.\n",
        "\n",
        "    Evaluation: After training, evaluate your models' performance. Compare the results with the provided solution and try to interpret why there might be differences.\n",
        "\n",
        "    Documentation: In a markdown cell, summarize your findings. Include any challenges you faced, how you overcame them, and any interesting insights you gained from comparing the different pre-trained models.\n",
        "\n",
        "- Note:\n",
        "\n",
        "    Although the provided code serves as a guide, you're encouraged to implement the new solutions on your own. The goal is to reinforce your understanding of Transfer Learning and how to apply it effectively.\n",
        "\n",
        "\n"
      ]
    },
    {
      "cell_type": "code",
      "execution_count": 1,
      "metadata": {
        "id": "7DEUaVZDH9Pg"
      },
      "outputs": [],
      "source": [
        "import numpy as np\n",
        "import torch\n",
        "import torch.nn as nn\n",
        "import torch.nn.functional as F\n",
        "\n",
        "from torch.utils.data import DataLoader\n",
        "from torch.utils.data import sampler\n",
        "import torchvision.datasets as datasets\n",
        "import torchvision.transforms as T\n",
        "from torchvision import models\n",
        "from torchvision.transforms import InterpolationMode"
      ]
    },
    {
      "cell_type": "code",
      "execution_count": 2,
      "metadata": {
        "id": "_Z4AKZNiH9Pg"
      },
      "outputs": [],
      "source": [
        "import matplotlib.pyplot as plt"
      ]
    },
    {
      "cell_type": "markdown",
      "metadata": {
        "id": "7GAIDPLjH9Ph"
      },
      "source": [
        "### Descargar sets de datos"
      ]
    },
    {
      "cell_type": "code",
      "source": [
        "import os\n",
        "from google.colab import drive\n",
        "drive.mount('/content/drive')\n"
      ],
      "metadata": {
        "colab": {
          "base_uri": "https://localhost:8080/"
        },
        "id": "3LTcjlV-hql4",
        "outputId": "68348081-8116-4804-dfe8-47e5b038e1b4"
      },
      "execution_count": 3,
      "outputs": [
        {
          "output_type": "stream",
          "name": "stdout",
          "text": [
            "Mounted at /content/drive\n"
          ]
        }
      ]
    },
    {
      "cell_type": "code",
      "execution_count": 4,
      "metadata": {
        "colab": {
          "base_uri": "https://localhost:8080/"
        },
        "id": "vUeRHTYbH9Ph",
        "outputId": "673316cb-f9d4-4cb5-b0bd-263f81e2bfc4"
      },
      "outputs": [
        {
          "output_type": "stream",
          "name": "stdout",
          "text": [
            "Files already downloaded and verified\n",
            "Files already downloaded and verified\n",
            "Files already downloaded and verified\n"
          ]
        }
      ],
      "source": [
        "# DATA_PATH = '/media/pepe/DataUbuntu/Databases/cifar-10/cifar-10-batches-py'\n",
        "DATA_PATH = '/content/drive/MyDrive/Colab Notebooks/DL/A2C/cifar-10-batches-py'\n",
        "NUM_TRAIN = 45000\n",
        "MINIBATCH_SIZE = 64\n",
        "transform_imagenet = T.Compose([\n",
        "                T.Resize(224),\n",
        "                T.ToTensor(),\n",
        "                T.Normalize((0.485, 0.456, 0.406), (0.229, 0.224, 0.225))\n",
        "            ])\n",
        "\n",
        "transform_cifar = T.Compose([\n",
        "                T.ToTensor(),\n",
        "                T.Normalize([0.491, 0.482, 0.447], [0.247, 0.243, 0.261])\n",
        "            ])\n",
        "\n",
        "# Training set loader\n",
        "cifar10_train = datasets.CIFAR10(DATA_PATH, train=True, download=True,\n",
        "                             transform=transform_imagenet)\n",
        "train_loader = DataLoader(cifar10_train, batch_size=MINIBATCH_SIZE,\n",
        "                          sampler=sampler.SubsetRandomSampler(range(NUM_TRAIN)))\n",
        "\n",
        "# Validation set loader\n",
        "cifar10_val = datasets.CIFAR10(DATA_PATH, train=True, download=True,\n",
        "                           transform=transform_imagenet)\n",
        "val_loader = DataLoader(cifar10_val, batch_size=MINIBATCH_SIZE,\n",
        "                        sampler=sampler.SubsetRandomSampler(range(NUM_TRAIN, len(cifar10_val))))\n",
        "\n",
        "# Testing set loader\n",
        "cifar10_test = datasets.CIFAR10(DATA_PATH, train=False, download=True,\n",
        "                            transform=transform_imagenet)\n",
        "test_loader = DataLoader(cifar10_test, batch_size=MINIBATCH_SIZE)"
      ]
    },
    {
      "cell_type": "code",
      "execution_count": 5,
      "metadata": {
        "colab": {
          "base_uri": "https://localhost:8080/"
        },
        "id": "7LASlMmaH9Ph",
        "outputId": "0ddcf75d-3708-4b31-b8d4-47dcc7b709e2"
      },
      "outputs": [
        {
          "output_type": "stream",
          "name": "stdout",
          "text": [
            "0 torch.Size([64, 3, 224, 224]) torch.Size([64])\n",
            "1 torch.Size([64, 3, 224, 224]) torch.Size([64])\n",
            "2 torch.Size([64, 3, 224, 224]) torch.Size([64])\n",
            "3 torch.Size([64, 3, 224, 224]) torch.Size([64])\n",
            "4 torch.Size([64, 3, 224, 224]) torch.Size([64])\n",
            "5 torch.Size([64, 3, 224, 224]) torch.Size([64])\n",
            "6 torch.Size([64, 3, 224, 224]) torch.Size([64])\n",
            "7 torch.Size([64, 3, 224, 224]) torch.Size([64])\n",
            "8 torch.Size([64, 3, 224, 224]) torch.Size([64])\n",
            "9 torch.Size([64, 3, 224, 224]) torch.Size([64])\n",
            "10 torch.Size([64, 3, 224, 224]) torch.Size([64])\n",
            "11 torch.Size([64, 3, 224, 224]) torch.Size([64])\n",
            "12 torch.Size([64, 3, 224, 224]) torch.Size([64])\n",
            "13 torch.Size([64, 3, 224, 224]) torch.Size([64])\n",
            "14 torch.Size([64, 3, 224, 224]) torch.Size([64])\n",
            "15 torch.Size([64, 3, 224, 224]) torch.Size([64])\n",
            "16 torch.Size([64, 3, 224, 224]) torch.Size([64])\n",
            "17 torch.Size([64, 3, 224, 224]) torch.Size([64])\n",
            "18 torch.Size([64, 3, 224, 224]) torch.Size([64])\n",
            "19 torch.Size([64, 3, 224, 224]) torch.Size([64])\n",
            "20 torch.Size([64, 3, 224, 224]) torch.Size([64])\n",
            "21 torch.Size([64, 3, 224, 224]) torch.Size([64])\n",
            "22 torch.Size([64, 3, 224, 224]) torch.Size([64])\n",
            "23 torch.Size([64, 3, 224, 224]) torch.Size([64])\n",
            "24 torch.Size([64, 3, 224, 224]) torch.Size([64])\n",
            "25 torch.Size([64, 3, 224, 224]) torch.Size([64])\n",
            "26 torch.Size([64, 3, 224, 224]) torch.Size([64])\n",
            "27 torch.Size([64, 3, 224, 224]) torch.Size([64])\n",
            "28 torch.Size([64, 3, 224, 224]) torch.Size([64])\n",
            "29 torch.Size([64, 3, 224, 224]) torch.Size([64])\n",
            "30 torch.Size([64, 3, 224, 224]) torch.Size([64])\n",
            "31 torch.Size([64, 3, 224, 224]) torch.Size([64])\n",
            "32 torch.Size([64, 3, 224, 224]) torch.Size([64])\n",
            "33 torch.Size([64, 3, 224, 224]) torch.Size([64])\n",
            "34 torch.Size([64, 3, 224, 224]) torch.Size([64])\n",
            "35 torch.Size([64, 3, 224, 224]) torch.Size([64])\n",
            "36 torch.Size([64, 3, 224, 224]) torch.Size([64])\n",
            "37 torch.Size([64, 3, 224, 224]) torch.Size([64])\n",
            "38 torch.Size([64, 3, 224, 224]) torch.Size([64])\n",
            "39 torch.Size([64, 3, 224, 224]) torch.Size([64])\n",
            "40 torch.Size([64, 3, 224, 224]) torch.Size([64])\n",
            "41 torch.Size([64, 3, 224, 224]) torch.Size([64])\n",
            "42 torch.Size([64, 3, 224, 224]) torch.Size([64])\n",
            "43 torch.Size([64, 3, 224, 224]) torch.Size([64])\n",
            "44 torch.Size([64, 3, 224, 224]) torch.Size([64])\n",
            "45 torch.Size([64, 3, 224, 224]) torch.Size([64])\n",
            "46 torch.Size([64, 3, 224, 224]) torch.Size([64])\n",
            "47 torch.Size([64, 3, 224, 224]) torch.Size([64])\n",
            "48 torch.Size([64, 3, 224, 224]) torch.Size([64])\n",
            "49 torch.Size([64, 3, 224, 224]) torch.Size([64])\n",
            "50 torch.Size([64, 3, 224, 224]) torch.Size([64])\n",
            "51 torch.Size([64, 3, 224, 224]) torch.Size([64])\n",
            "52 torch.Size([64, 3, 224, 224]) torch.Size([64])\n",
            "53 torch.Size([64, 3, 224, 224]) torch.Size([64])\n",
            "54 torch.Size([64, 3, 224, 224]) torch.Size([64])\n",
            "55 torch.Size([64, 3, 224, 224]) torch.Size([64])\n",
            "56 torch.Size([64, 3, 224, 224]) torch.Size([64])\n",
            "57 torch.Size([64, 3, 224, 224]) torch.Size([64])\n",
            "58 torch.Size([64, 3, 224, 224]) torch.Size([64])\n",
            "59 torch.Size([64, 3, 224, 224]) torch.Size([64])\n",
            "60 torch.Size([64, 3, 224, 224]) torch.Size([64])\n",
            "61 torch.Size([64, 3, 224, 224]) torch.Size([64])\n",
            "62 torch.Size([64, 3, 224, 224]) torch.Size([64])\n",
            "63 torch.Size([64, 3, 224, 224]) torch.Size([64])\n",
            "64 torch.Size([64, 3, 224, 224]) torch.Size([64])\n",
            "65 torch.Size([64, 3, 224, 224]) torch.Size([64])\n",
            "66 torch.Size([64, 3, 224, 224]) torch.Size([64])\n",
            "67 torch.Size([64, 3, 224, 224]) torch.Size([64])\n",
            "68 torch.Size([64, 3, 224, 224]) torch.Size([64])\n",
            "69 torch.Size([64, 3, 224, 224]) torch.Size([64])\n",
            "70 torch.Size([64, 3, 224, 224]) torch.Size([64])\n",
            "71 torch.Size([64, 3, 224, 224]) torch.Size([64])\n",
            "72 torch.Size([64, 3, 224, 224]) torch.Size([64])\n",
            "73 torch.Size([64, 3, 224, 224]) torch.Size([64])\n",
            "74 torch.Size([64, 3, 224, 224]) torch.Size([64])\n",
            "75 torch.Size([64, 3, 224, 224]) torch.Size([64])\n",
            "76 torch.Size([64, 3, 224, 224]) torch.Size([64])\n",
            "77 torch.Size([64, 3, 224, 224]) torch.Size([64])\n",
            "78 torch.Size([8, 3, 224, 224]) torch.Size([8])\n"
          ]
        }
      ],
      "source": [
        "for i, (x, y) in enumerate(val_loader):\n",
        "    print(i, x.shape, y.shape)"
      ]
    },
    {
      "cell_type": "code",
      "execution_count": 5,
      "metadata": {
        "id": "a9OA2qIDH9Pi"
      },
      "outputs": [],
      "source": []
    },
    {
      "cell_type": "markdown",
      "metadata": {
        "id": "cGkGaUeiH9Pi"
      },
      "source": [
        "### Usar GPU"
      ]
    },
    {
      "cell_type": "code",
      "execution_count": 6,
      "metadata": {
        "colab": {
          "base_uri": "https://localhost:8080/"
        },
        "id": "OFpk-lv5H9Pi",
        "outputId": "3478f4fb-f545-46a8-ce82-273d6221f5df"
      },
      "outputs": [
        {
          "output_type": "stream",
          "name": "stdout",
          "text": [
            "cuda\n"
          ]
        }
      ],
      "source": [
        "if torch.cuda.is_available():\n",
        "    device = torch.device('cuda')\n",
        "else:\n",
        "    device = torch.device('cpu')\n",
        "\n",
        "print(device)"
      ]
    },
    {
      "cell_type": "markdown",
      "metadata": {
        "id": "fGkEwfhpH9Pi"
      },
      "source": [
        "### Mostrar imágenes"
      ]
    },
    {
      "cell_type": "code",
      "execution_count": 7,
      "metadata": {
        "colab": {
          "base_uri": "https://localhost:8080/",
          "height": 423
        },
        "id": "KaKJKSswH9Pi",
        "outputId": "7c08ae70-8f75-48d7-fc75-ed51aa9a4270"
      },
      "outputs": [
        {
          "output_type": "stream",
          "name": "stdout",
          "text": [
            "La imagen muestreada representa un: Ship\n"
          ]
        },
        {
          "output_type": "display_data",
          "data": {
            "text/plain": [
              "<Figure size 640x480 with 1 Axes>"
            ],
            "image/png": "[encoded data removed]"
          },
          "metadata": {}
        }
      ],
      "source": [
        "classes = ['Plane', 'Car', 'Bird', 'Cat', 'Deer','Dog', 'Frog', 'Horse', 'Ship', 'Truck']\n",
        "\n",
        "def plot_figure(image):\n",
        "    plt.imshow(image.permute(1,2,0))\n",
        "    plt.axis('off')\n",
        "    plt.show()\n",
        "\n",
        "rnd_sample_idx = np.random.randint(len(test_loader))\n",
        "print(f'La imagen muestreada representa un: {classes[test_loader.dataset[rnd_sample_idx][1]]}')\n",
        "image = test_loader.dataset[rnd_sample_idx][0]\n",
        "image = (image - image.min()) / (image.max() -image.min() )\n",
        "plot_figure(image)"
      ]
    },
    {
      "cell_type": "markdown",
      "metadata": {
        "id": "oQ_F_GHqH9Pj"
      },
      "source": [
        "### Calcular Accuracy"
      ]
    },
    {
      "cell_type": "code",
      "execution_count": 8,
      "metadata": {
        "id": "mtC9jIQiH9Pj"
      },
      "outputs": [],
      "source": [
        "def accuracy(model, loader):\n",
        "    num_correct = 0\n",
        "    num_total = 0\n",
        "    model.eval()\n",
        "    model = model.to(device=device)\n",
        "    with torch.no_grad():\n",
        "        for (xi, yi) in loader:\n",
        "            xi = xi.to(device=device, dtype = torch.float32)\n",
        "            yi = yi.to(device=device, dtype = torch.long)\n",
        "            scores = model(xi) # mb_size, 10\n",
        "            _, pred = scores.max(dim=1) #pred shape (mb_size )\n",
        "            num_correct += (pred == yi).sum() # pred shape (mb_size), yi shape (mb_size, 1)\n",
        "            num_total += pred.size(0)\n",
        "        return float(num_correct)/num_total\n",
        "\n"
      ]
    },
    {
      "cell_type": "markdown",
      "metadata": {
        "id": "3Oib3WNGH9Pj"
      },
      "source": [
        "### Cargar modelo pre-cargado"
      ]
    },
    {
      "cell_type": "code",
      "execution_count": 9,
      "metadata": {
        "colab": {
          "base_uri": "https://localhost:8080/"
        },
        "id": "ZfwP807WH9Pj",
        "outputId": "1eeec549-3ff3-40b6-e10f-25d7de6e28c7"
      },
      "outputs": [
        {
          "output_type": "stream",
          "name": "stderr",
          "text": [
            "/usr/local/lib/python3.10/dist-packages/torchvision/models/_utils.py:208: UserWarning: The parameter 'pretrained' is deprecated since 0.13 and may be removed in the future, please use 'weights' instead.\n",
            "  warnings.warn(\n",
            "/usr/local/lib/python3.10/dist-packages/torchvision/models/_utils.py:223: UserWarning: Arguments other than a weight enum or `None` for 'weights' are deprecated since 0.13 and may be removed in the future. The current behavior is equivalent to passing `weights=ResNet18_Weights.IMAGENET1K_V1`. You can also use `weights=ResNet18_Weights.DEFAULT` to get the most up-to-date weights.\n",
            "  warnings.warn(msg)\n",
            "Downloading: \"https://download.pytorch.org/models/resnet18-f37072fd.pth\" to /root/.cache/torch/hub/checkpoints/resnet18-f37072fd.pth\n",
            "100%|██████████| 44.7M/44.7M [00:00<00:00, 142MB/s]\n"
          ]
        }
      ],
      "source": [
        "model_resnet18 = models.resnet18(pretrained=True)"
      ]
    },
    {
      "cell_type": "markdown",
      "metadata": {
        "id": "o1ty3r00H9Pj"
      },
      "source": [
        "#### Exploremos el modelo"
      ]
    },
    {
      "cell_type": "code",
      "execution_count": 10,
      "metadata": {
        "scrolled": true,
        "colab": {
          "base_uri": "https://localhost:8080/"
        },
        "id": "IgtEtXXqH9Pj",
        "outputId": "252bb057-05e7-4ef2-ab1c-548e42a954b1",
        "collapsed": true
      },
      "outputs": [
        {
          "output_type": "stream",
          "name": "stdout",
          "text": [
            "0 torch.Size([64, 3, 7, 7]) True\n",
            "1 torch.Size([64]) True\n",
            "2 torch.Size([64]) True\n",
            "3 torch.Size([64, 64, 3, 3]) True\n",
            "4 torch.Size([64]) True\n",
            "5 torch.Size([64]) True\n",
            "6 torch.Size([64, 64, 3, 3]) True\n",
            "7 torch.Size([64]) True\n",
            "8 torch.Size([64]) True\n",
            "9 torch.Size([64, 64, 3, 3]) True\n",
            "10 torch.Size([64]) True\n",
            "11 torch.Size([64]) True\n",
            "12 torch.Size([64, 64, 3, 3]) True\n",
            "13 torch.Size([64]) True\n",
            "14 torch.Size([64]) True\n",
            "15 torch.Size([128, 64, 3, 3]) True\n",
            "16 torch.Size([128]) True\n",
            "17 torch.Size([128]) True\n",
            "18 torch.Size([128, 128, 3, 3]) True\n",
            "19 torch.Size([128]) True\n",
            "20 torch.Size([128]) True\n",
            "21 torch.Size([128, 64, 1, 1]) True\n",
            "22 torch.Size([128]) True\n",
            "23 torch.Size([128]) True\n",
            "24 torch.Size([128, 128, 3, 3]) True\n",
            "25 torch.Size([128]) True\n",
            "26 torch.Size([128]) True\n",
            "27 torch.Size([128, 128, 3, 3]) True\n",
            "28 torch.Size([128]) True\n",
            "29 torch.Size([128]) True\n",
            "30 torch.Size([256, 128, 3, 3]) True\n",
            "31 torch.Size([256]) True\n",
            "32 torch.Size([256]) True\n",
            "33 torch.Size([256, 256, 3, 3]) True\n",
            "34 torch.Size([256]) True\n",
            "35 torch.Size([256]) True\n",
            "36 torch.Size([256, 128, 1, 1]) True\n",
            "37 torch.Size([256]) True\n",
            "38 torch.Size([256]) True\n",
            "39 torch.Size([256, 256, 3, 3]) True\n",
            "40 torch.Size([256]) True\n",
            "41 torch.Size([256]) True\n",
            "42 torch.Size([256, 256, 3, 3]) True\n",
            "43 torch.Size([256]) True\n",
            "44 torch.Size([256]) True\n",
            "45 torch.Size([512, 256, 3, 3]) True\n",
            "46 torch.Size([512]) True\n",
            "47 torch.Size([512]) True\n",
            "48 torch.Size([512, 512, 3, 3]) True\n",
            "49 torch.Size([512]) True\n",
            "50 torch.Size([512]) True\n",
            "51 torch.Size([512, 256, 1, 1]) True\n",
            "52 torch.Size([512]) True\n",
            "53 torch.Size([512]) True\n",
            "54 torch.Size([512, 512, 3, 3]) True\n",
            "55 torch.Size([512]) True\n",
            "56 torch.Size([512]) True\n",
            "57 torch.Size([512, 512, 3, 3]) True\n",
            "58 torch.Size([512]) True\n",
            "59 torch.Size([512]) True\n",
            "60 torch.Size([1000, 512]) True\n",
            "61 torch.Size([1000]) True\n"
          ]
        }
      ],
      "source": [
        "for i, w in enumerate(model_resnet18.parameters()):\n",
        "    print(i, w.shape, w.requires_grad)"
      ]
    },
    {
      "cell_type": "code",
      "execution_count": 11,
      "metadata": {
        "scrolled": true,
        "colab": {
          "base_uri": "https://localhost:8080/"
        },
        "id": "Tl5OjT9MH9Pk",
        "outputId": "ccb76449-19fb-4f71-cdeb-2d575385c70d",
        "collapsed": true
      },
      "outputs": [
        {
          "output_type": "execute_result",
          "data": {
            "text/plain": [
              "ResNet(\n",
              "  (conv1): Conv2d(3, 64, kernel_size=(7, 7), stride=(2, 2), padding=(3, 3), bias=False)\n",
              "  (bn1): BatchNorm2d(64, eps=1e-05, momentum=0.1, affine=True, track_running_stats=True)\n",
              "  (relu): ReLU(inplace=True)\n",
              "  (maxpool): MaxPool2d(kernel_size=3, stride=2, padding=1, dilation=1, ceil_mode=False)\n",
              "  (layer1): Sequential(\n",
              "    (0): BasicBlock(\n",
              "      (conv1): Conv2d(64, 64, kernel_size=(3, 3), stride=(1, 1), padding=(1, 1), bias=False)\n",
              "      (bn1): BatchNorm2d(64, eps=1e-05, momentum=0.1, affine=True, track_running_stats=True)\n",
              "      (relu): ReLU(inplace=True)\n",
              "      (conv2): Conv2d(64, 64, kernel_size=(3, 3), stride=(1, 1), padding=(1, 1), bias=False)\n",
              "      (bn2): BatchNorm2d(64, eps=1e-05, momentum=0.1, affine=True, track_running_stats=True)\n",
              "    )\n",
              "    (1): BasicBlock(\n",
              "      (conv1): Conv2d(64, 64, kernel_size=(3, 3), stride=(1, 1), padding=(1, 1), bias=False)\n",
              "      (bn1): BatchNorm2d(64, eps=1e-05, momentum=0.1, affine=True, track_running_stats=True)\n",
              "      (relu): ReLU(inplace=True)\n",
              "      (conv2): Conv2d(64, 64, kernel_size=(3, 3), stride=(1, 1), padding=(1, 1), bias=False)\n",
              "      (bn2): BatchNorm2d(64, eps=1e-05, momentum=0.1, affine=True, track_running_stats=True)\n",
              "    )\n",
              "  )\n",
              "  (layer2): Sequential(\n",
              "    (0): BasicBlock(\n",
              "      (conv1): Conv2d(64, 128, kernel_size=(3, 3), stride=(2, 2), padding=(1, 1), bias=False)\n",
              "      (bn1): BatchNorm2d(128, eps=1e-05, momentum=0.1, affine=True, track_running_stats=True)\n",
              "      (relu): ReLU(inplace=True)\n",
              "      (conv2): Conv2d(128, 128, kernel_size=(3, 3), stride=(1, 1), padding=(1, 1), bias=False)\n",
              "      (bn2): BatchNorm2d(128, eps=1e-05, momentum=0.1, affine=True, track_running_stats=True)\n",
              "      (downsample): Sequential(\n",
              "        (0): Conv2d(64, 128, kernel_size=(1, 1), stride=(2, 2), bias=False)\n",
              "        (1): BatchNorm2d(128, eps=1e-05, momentum=0.1, affine=True, track_running_stats=True)\n",
              "      )\n",
              "    )\n",
              "    (1): BasicBlock(\n",
              "      (conv1): Conv2d(128, 128, kernel_size=(3, 3), stride=(1, 1), padding=(1, 1), bias=False)\n",
              "      (bn1): BatchNorm2d(128, eps=1e-05, momentum=0.1, affine=True, track_running_stats=True)\n",
              "      (relu): ReLU(inplace=True)\n",
              "      (conv2): Conv2d(128, 128, kernel_size=(3, 3), stride=(1, 1), padding=(1, 1), bias=False)\n",
              "      (bn2): BatchNorm2d(128, eps=1e-05, momentum=0.1, affine=True, track_running_stats=True)\n",
              "    )\n",
              "  )\n",
              "  (layer3): Sequential(\n",
              "    (0): BasicBlock(\n",
              "      (conv1): Conv2d(128, 256, kernel_size=(3, 3), stride=(2, 2), padding=(1, 1), bias=False)\n",
              "      (bn1): BatchNorm2d(256, eps=1e-05, momentum=0.1, affine=True, track_running_stats=True)\n",
              "      (relu): ReLU(inplace=True)\n",
              "      (conv2): Conv2d(256, 256, kernel_size=(3, 3), stride=(1, 1), padding=(1, 1), bias=False)\n",
              "      (bn2): BatchNorm2d(256, eps=1e-05, momentum=0.1, affine=True, track_running_stats=True)\n",
              "      (downsample): Sequential(\n",
              "        (0): Conv2d(128, 256, kernel_size=(1, 1), stride=(2, 2), bias=False)\n",
              "        (1): BatchNorm2d(256, eps=1e-05, momentum=0.1, affine=True, track_running_stats=True)\n",
              "      )\n",
              "    )\n",
              "    (1): BasicBlock(\n",
              "      (conv1): Conv2d(256, 256, kernel_size=(3, 3), stride=(1, 1), padding=(1, 1), bias=False)\n",
              "      (bn1): BatchNorm2d(256, eps=1e-05, momentum=0.1, affine=True, track_running_stats=True)\n",
              "      (relu): ReLU(inplace=True)\n",
              "      (conv2): Conv2d(256, 256, kernel_size=(3, 3), stride=(1, 1), padding=(1, 1), bias=False)\n",
              "      (bn2): BatchNorm2d(256, eps=1e-05, momentum=0.1, affine=True, track_running_stats=True)\n",
              "    )\n",
              "  )\n",
              "  (layer4): Sequential(\n",
              "    (0): BasicBlock(\n",
              "      (conv1): Conv2d(256, 512, kernel_size=(3, 3), stride=(2, 2), padding=(1, 1), bias=False)\n",
              "      (bn1): BatchNorm2d(512, eps=1e-05, momentum=0.1, affine=True, track_running_stats=True)\n",
              "      (relu): ReLU(inplace=True)\n",
              "      (conv2): Conv2d(512, 512, kernel_size=(3, 3), stride=(1, 1), padding=(1, 1), bias=False)\n",
              "      (bn2): BatchNorm2d(512, eps=1e-05, momentum=0.1, affine=True, track_running_stats=True)\n",
              "      (downsample): Sequential(\n",
              "        (0): Conv2d(256, 512, kernel_size=(1, 1), stride=(2, 2), bias=False)\n",
              "        (1): BatchNorm2d(512, eps=1e-05, momentum=0.1, affine=True, track_running_stats=True)\n",
              "      )\n",
              "    )\n",
              "    (1): BasicBlock(\n",
              "      (conv1): Conv2d(512, 512, kernel_size=(3, 3), stride=(1, 1), padding=(1, 1), bias=False)\n",
              "      (bn1): BatchNorm2d(512, eps=1e-05, momentum=0.1, affine=True, track_running_stats=True)\n",
              "      (relu): ReLU(inplace=True)\n",
              "      (conv2): Conv2d(512, 512, kernel_size=(3, 3), stride=(1, 1), padding=(1, 1), bias=False)\n",
              "      (bn2): BatchNorm2d(512, eps=1e-05, momentum=0.1, affine=True, track_running_stats=True)\n",
              "    )\n",
              "  )\n",
              "  (avgpool): AdaptiveAvgPool2d(output_size=(1, 1))\n",
              "  (fc): Linear(in_features=512, out_features=1000, bias=True)\n",
              ")"
            ]
          },
          "metadata": {},
          "execution_count": 11
        }
      ],
      "source": [
        "model_resnet18"
      ]
    },
    {
      "cell_type": "markdown",
      "metadata": {
        "id": "3jHE1pMWH9Pk"
      },
      "source": [
        "#### Ajustar a nuestro modelo"
      ]
    },
    {
      "cell_type": "code",
      "execution_count": 12,
      "metadata": {
        "colab": {
          "base_uri": "https://localhost:8080/"
        },
        "id": "HdkBBlC9H9Pk",
        "outputId": "027ea73a-0236-4577-bec3-6b1699bc91f5",
        "collapsed": true
      },
      "outputs": [
        {
          "output_type": "execute_result",
          "data": {
            "text/plain": [
              "Sequential(\n",
              "  (0): Conv2d(3, 64, kernel_size=(7, 7), stride=(2, 2), padding=(3, 3), bias=False)\n",
              "  (1): BatchNorm2d(64, eps=1e-05, momentum=0.1, affine=True, track_running_stats=True)\n",
              "  (2): ReLU(inplace=True)\n",
              "  (3): MaxPool2d(kernel_size=3, stride=2, padding=1, dilation=1, ceil_mode=False)\n",
              "  (4): Sequential(\n",
              "    (0): BasicBlock(\n",
              "      (conv1): Conv2d(64, 64, kernel_size=(3, 3), stride=(1, 1), padding=(1, 1), bias=False)\n",
              "      (bn1): BatchNorm2d(64, eps=1e-05, momentum=0.1, affine=True, track_running_stats=True)\n",
              "      (relu): ReLU(inplace=True)\n",
              "      (conv2): Conv2d(64, 64, kernel_size=(3, 3), stride=(1, 1), padding=(1, 1), bias=False)\n",
              "      (bn2): BatchNorm2d(64, eps=1e-05, momentum=0.1, affine=True, track_running_stats=True)\n",
              "    )\n",
              "    (1): BasicBlock(\n",
              "      (conv1): Conv2d(64, 64, kernel_size=(3, 3), stride=(1, 1), padding=(1, 1), bias=False)\n",
              "      (bn1): BatchNorm2d(64, eps=1e-05, momentum=0.1, affine=True, track_running_stats=True)\n",
              "      (relu): ReLU(inplace=True)\n",
              "      (conv2): Conv2d(64, 64, kernel_size=(3, 3), stride=(1, 1), padding=(1, 1), bias=False)\n",
              "      (bn2): BatchNorm2d(64, eps=1e-05, momentum=0.1, affine=True, track_running_stats=True)\n",
              "    )\n",
              "  )\n",
              "  (5): Sequential(\n",
              "    (0): BasicBlock(\n",
              "      (conv1): Conv2d(64, 128, kernel_size=(3, 3), stride=(2, 2), padding=(1, 1), bias=False)\n",
              "      (bn1): BatchNorm2d(128, eps=1e-05, momentum=0.1, affine=True, track_running_stats=True)\n",
              "      (relu): ReLU(inplace=True)\n",
              "      (conv2): Conv2d(128, 128, kernel_size=(3, 3), stride=(1, 1), padding=(1, 1), bias=False)\n",
              "      (bn2): BatchNorm2d(128, eps=1e-05, momentum=0.1, affine=True, track_running_stats=True)\n",
              "      (downsample): Sequential(\n",
              "        (0): Conv2d(64, 128, kernel_size=(1, 1), stride=(2, 2), bias=False)\n",
              "        (1): BatchNorm2d(128, eps=1e-05, momentum=0.1, affine=True, track_running_stats=True)\n",
              "      )\n",
              "    )\n",
              "    (1): BasicBlock(\n",
              "      (conv1): Conv2d(128, 128, kernel_size=(3, 3), stride=(1, 1), padding=(1, 1), bias=False)\n",
              "      (bn1): BatchNorm2d(128, eps=1e-05, momentum=0.1, affine=True, track_running_stats=True)\n",
              "      (relu): ReLU(inplace=True)\n",
              "      (conv2): Conv2d(128, 128, kernel_size=(3, 3), stride=(1, 1), padding=(1, 1), bias=False)\n",
              "      (bn2): BatchNorm2d(128, eps=1e-05, momentum=0.1, affine=True, track_running_stats=True)\n",
              "    )\n",
              "  )\n",
              "  (6): Sequential(\n",
              "    (0): BasicBlock(\n",
              "      (conv1): Conv2d(128, 256, kernel_size=(3, 3), stride=(2, 2), padding=(1, 1), bias=False)\n",
              "      (bn1): BatchNorm2d(256, eps=1e-05, momentum=0.1, affine=True, track_running_stats=True)\n",
              "      (relu): ReLU(inplace=True)\n",
              "      (conv2): Conv2d(256, 256, kernel_size=(3, 3), stride=(1, 1), padding=(1, 1), bias=False)\n",
              "      (bn2): BatchNorm2d(256, eps=1e-05, momentum=0.1, affine=True, track_running_stats=True)\n",
              "      (downsample): Sequential(\n",
              "        (0): Conv2d(128, 256, kernel_size=(1, 1), stride=(2, 2), bias=False)\n",
              "        (1): BatchNorm2d(256, eps=1e-05, momentum=0.1, affine=True, track_running_stats=True)\n",
              "      )\n",
              "    )\n",
              "    (1): BasicBlock(\n",
              "      (conv1): Conv2d(256, 256, kernel_size=(3, 3), stride=(1, 1), padding=(1, 1), bias=False)\n",
              "      (bn1): BatchNorm2d(256, eps=1e-05, momentum=0.1, affine=True, track_running_stats=True)\n",
              "      (relu): ReLU(inplace=True)\n",
              "      (conv2): Conv2d(256, 256, kernel_size=(3, 3), stride=(1, 1), padding=(1, 1), bias=False)\n",
              "      (bn2): BatchNorm2d(256, eps=1e-05, momentum=0.1, affine=True, track_running_stats=True)\n",
              "    )\n",
              "  )\n",
              "  (7): Sequential(\n",
              "    (0): BasicBlock(\n",
              "      (conv1): Conv2d(256, 512, kernel_size=(3, 3), stride=(2, 2), padding=(1, 1), bias=False)\n",
              "      (bn1): BatchNorm2d(512, eps=1e-05, momentum=0.1, affine=True, track_running_stats=True)\n",
              "      (relu): ReLU(inplace=True)\n",
              "      (conv2): Conv2d(512, 512, kernel_size=(3, 3), stride=(1, 1), padding=(1, 1), bias=False)\n",
              "      (bn2): BatchNorm2d(512, eps=1e-05, momentum=0.1, affine=True, track_running_stats=True)\n",
              "      (downsample): Sequential(\n",
              "        (0): Conv2d(256, 512, kernel_size=(1, 1), stride=(2, 2), bias=False)\n",
              "        (1): BatchNorm2d(512, eps=1e-05, momentum=0.1, affine=True, track_running_stats=True)\n",
              "      )\n",
              "    )\n",
              "    (1): BasicBlock(\n",
              "      (conv1): Conv2d(512, 512, kernel_size=(3, 3), stride=(1, 1), padding=(1, 1), bias=False)\n",
              "      (bn1): BatchNorm2d(512, eps=1e-05, momentum=0.1, affine=True, track_running_stats=True)\n",
              "      (relu): ReLU(inplace=True)\n",
              "      (conv2): Conv2d(512, 512, kernel_size=(3, 3), stride=(1, 1), padding=(1, 1), bias=False)\n",
              "      (bn2): BatchNorm2d(512, eps=1e-05, momentum=0.1, affine=True, track_running_stats=True)\n",
              "    )\n",
              "  )\n",
              "  (8): AdaptiveAvgPool2d(output_size=(1, 1))\n",
              "  (9): Linear(in_features=512, out_features=1000, bias=True)\n",
              ")"
            ]
          },
          "metadata": {},
          "execution_count": 12
        }
      ],
      "source": [
        "model_aux = nn.Sequential(*list(model_resnet18.children()))\n",
        "model_aux"
      ]
    },
    {
      "cell_type": "code",
      "execution_count": 13,
      "metadata": {
        "id": "Ala5O01AH9Pk"
      },
      "outputs": [],
      "source": [
        "model_aux = nn.Sequential(*list(model_resnet18.children())[:-1])"
      ]
    },
    {
      "cell_type": "code",
      "execution_count": 14,
      "metadata": {
        "scrolled": true,
        "colab": {
          "base_uri": "https://localhost:8080/"
        },
        "id": "GJDD3s6CH9Pk",
        "outputId": "277ae652-d055-4732-f7d6-3c441d7a22bf",
        "collapsed": true
      },
      "outputs": [
        {
          "output_type": "execute_result",
          "data": {
            "text/plain": [
              "Sequential(\n",
              "  (0): Conv2d(3, 64, kernel_size=(7, 7), stride=(2, 2), padding=(3, 3), bias=False)\n",
              "  (1): BatchNorm2d(64, eps=1e-05, momentum=0.1, affine=True, track_running_stats=True)\n",
              "  (2): ReLU(inplace=True)\n",
              "  (3): MaxPool2d(kernel_size=3, stride=2, padding=1, dilation=1, ceil_mode=False)\n",
              "  (4): Sequential(\n",
              "    (0): BasicBlock(\n",
              "      (conv1): Conv2d(64, 64, kernel_size=(3, 3), stride=(1, 1), padding=(1, 1), bias=False)\n",
              "      (bn1): BatchNorm2d(64, eps=1e-05, momentum=0.1, affine=True, track_running_stats=True)\n",
              "      (relu): ReLU(inplace=True)\n",
              "      (conv2): Conv2d(64, 64, kernel_size=(3, 3), stride=(1, 1), padding=(1, 1), bias=False)\n",
              "      (bn2): BatchNorm2d(64, eps=1e-05, momentum=0.1, affine=True, track_running_stats=True)\n",
              "    )\n",
              "    (1): BasicBlock(\n",
              "      (conv1): Conv2d(64, 64, kernel_size=(3, 3), stride=(1, 1), padding=(1, 1), bias=False)\n",
              "      (bn1): BatchNorm2d(64, eps=1e-05, momentum=0.1, affine=True, track_running_stats=True)\n",
              "      (relu): ReLU(inplace=True)\n",
              "      (conv2): Conv2d(64, 64, kernel_size=(3, 3), stride=(1, 1), padding=(1, 1), bias=False)\n",
              "      (bn2): BatchNorm2d(64, eps=1e-05, momentum=0.1, affine=True, track_running_stats=True)\n",
              "    )\n",
              "  )\n",
              "  (5): Sequential(\n",
              "    (0): BasicBlock(\n",
              "      (conv1): Conv2d(64, 128, kernel_size=(3, 3), stride=(2, 2), padding=(1, 1), bias=False)\n",
              "      (bn1): BatchNorm2d(128, eps=1e-05, momentum=0.1, affine=True, track_running_stats=True)\n",
              "      (relu): ReLU(inplace=True)\n",
              "      (conv2): Conv2d(128, 128, kernel_size=(3, 3), stride=(1, 1), padding=(1, 1), bias=False)\n",
              "      (bn2): BatchNorm2d(128, eps=1e-05, momentum=0.1, affine=True, track_running_stats=True)\n",
              "      (downsample): Sequential(\n",
              "        (0): Conv2d(64, 128, kernel_size=(1, 1), stride=(2, 2), bias=False)\n",
              "        (1): BatchNorm2d(128, eps=1e-05, momentum=0.1, affine=True, track_running_stats=True)\n",
              "      )\n",
              "    )\n",
              "    (1): BasicBlock(\n",
              "      (conv1): Conv2d(128, 128, kernel_size=(3, 3), stride=(1, 1), padding=(1, 1), bias=False)\n",
              "      (bn1): BatchNorm2d(128, eps=1e-05, momentum=0.1, affine=True, track_running_stats=True)\n",
              "      (relu): ReLU(inplace=True)\n",
              "      (conv2): Conv2d(128, 128, kernel_size=(3, 3), stride=(1, 1), padding=(1, 1), bias=False)\n",
              "      (bn2): BatchNorm2d(128, eps=1e-05, momentum=0.1, affine=True, track_running_stats=True)\n",
              "    )\n",
              "  )\n",
              "  (6): Sequential(\n",
              "    (0): BasicBlock(\n",
              "      (conv1): Conv2d(128, 256, kernel_size=(3, 3), stride=(2, 2), padding=(1, 1), bias=False)\n",
              "      (bn1): BatchNorm2d(256, eps=1e-05, momentum=0.1, affine=True, track_running_stats=True)\n",
              "      (relu): ReLU(inplace=True)\n",
              "      (conv2): Conv2d(256, 256, kernel_size=(3, 3), stride=(1, 1), padding=(1, 1), bias=False)\n",
              "      (bn2): BatchNorm2d(256, eps=1e-05, momentum=0.1, affine=True, track_running_stats=True)\n",
              "      (downsample): Sequential(\n",
              "        (0): Conv2d(128, 256, kernel_size=(1, 1), stride=(2, 2), bias=False)\n",
              "        (1): BatchNorm2d(256, eps=1e-05, momentum=0.1, affine=True, track_running_stats=True)\n",
              "      )\n",
              "    )\n",
              "    (1): BasicBlock(\n",
              "      (conv1): Conv2d(256, 256, kernel_size=(3, 3), stride=(1, 1), padding=(1, 1), bias=False)\n",
              "      (bn1): BatchNorm2d(256, eps=1e-05, momentum=0.1, affine=True, track_running_stats=True)\n",
              "      (relu): ReLU(inplace=True)\n",
              "      (conv2): Conv2d(256, 256, kernel_size=(3, 3), stride=(1, 1), padding=(1, 1), bias=False)\n",
              "      (bn2): BatchNorm2d(256, eps=1e-05, momentum=0.1, affine=True, track_running_stats=True)\n",
              "    )\n",
              "  )\n",
              "  (7): Sequential(\n",
              "    (0): BasicBlock(\n",
              "      (conv1): Conv2d(256, 512, kernel_size=(3, 3), stride=(2, 2), padding=(1, 1), bias=False)\n",
              "      (bn1): BatchNorm2d(512, eps=1e-05, momentum=0.1, affine=True, track_running_stats=True)\n",
              "      (relu): ReLU(inplace=True)\n",
              "      (conv2): Conv2d(512, 512, kernel_size=(3, 3), stride=(1, 1), padding=(1, 1), bias=False)\n",
              "      (bn2): BatchNorm2d(512, eps=1e-05, momentum=0.1, affine=True, track_running_stats=True)\n",
              "      (downsample): Sequential(\n",
              "        (0): Conv2d(256, 512, kernel_size=(1, 1), stride=(2, 2), bias=False)\n",
              "        (1): BatchNorm2d(512, eps=1e-05, momentum=0.1, affine=True, track_running_stats=True)\n",
              "      )\n",
              "    )\n",
              "    (1): BasicBlock(\n",
              "      (conv1): Conv2d(512, 512, kernel_size=(3, 3), stride=(1, 1), padding=(1, 1), bias=False)\n",
              "      (bn1): BatchNorm2d(512, eps=1e-05, momentum=0.1, affine=True, track_running_stats=True)\n",
              "      (relu): ReLU(inplace=True)\n",
              "      (conv2): Conv2d(512, 512, kernel_size=(3, 3), stride=(1, 1), padding=(1, 1), bias=False)\n",
              "      (bn2): BatchNorm2d(512, eps=1e-05, momentum=0.1, affine=True, track_running_stats=True)\n",
              "    )\n",
              "  )\n",
              "  (8): AdaptiveAvgPool2d(output_size=(1, 1))\n",
              ")"
            ]
          },
          "metadata": {},
          "execution_count": 14
        }
      ],
      "source": [
        "model_aux"
      ]
    },
    {
      "cell_type": "code",
      "execution_count": 15,
      "metadata": {
        "id": "L8siF2ZgH9Pk"
      },
      "outputs": [],
      "source": [
        "for i, parameter in enumerate(model_aux.parameters()):\n",
        "    parameter.requires_grad = False"
      ]
    },
    {
      "cell_type": "code",
      "execution_count": 16,
      "metadata": {
        "scrolled": true,
        "colab": {
          "base_uri": "https://localhost:8080/"
        },
        "id": "iMzStl1sH9Pk",
        "outputId": "bfd79d75-cc9c-4b38-f9ee-c0464d8c3012",
        "collapsed": true
      },
      "outputs": [
        {
          "output_type": "stream",
          "name": "stdout",
          "text": [
            "0 False\n",
            "1 False\n",
            "2 False\n",
            "3 False\n",
            "4 False\n",
            "5 False\n",
            "6 False\n",
            "7 False\n",
            "8 False\n",
            "9 False\n",
            "10 False\n",
            "11 False\n",
            "12 False\n",
            "13 False\n",
            "14 False\n",
            "15 False\n",
            "16 False\n",
            "17 False\n",
            "18 False\n",
            "19 False\n",
            "20 False\n",
            "21 False\n",
            "22 False\n",
            "23 False\n",
            "24 False\n",
            "25 False\n",
            "26 False\n",
            "27 False\n",
            "28 False\n",
            "29 False\n",
            "30 False\n",
            "31 False\n",
            "32 False\n",
            "33 False\n",
            "34 False\n",
            "35 False\n",
            "36 False\n",
            "37 False\n",
            "38 False\n",
            "39 False\n",
            "40 False\n",
            "41 False\n",
            "42 False\n",
            "43 False\n",
            "44 False\n",
            "45 False\n",
            "46 False\n",
            "47 False\n",
            "48 False\n",
            "49 False\n",
            "50 False\n",
            "51 False\n",
            "52 False\n",
            "53 False\n",
            "54 False\n",
            "55 False\n",
            "56 False\n",
            "57 False\n",
            "58 False\n",
            "59 False\n"
          ]
        }
      ],
      "source": [
        "for i, parameter in enumerate(model_aux.parameters()):\n",
        "    print(i, parameter.requires_grad)"
      ]
    },
    {
      "cell_type": "markdown",
      "metadata": {
        "id": "GkhkRI9FH9Pl"
      },
      "source": [
        "### Loop de entrenamiento"
      ]
    },
    {
      "cell_type": "code",
      "execution_count": 17,
      "metadata": {
        "id": "Jm4WpAnIH9Pm"
      },
      "outputs": [],
      "source": [
        "def train(model, optimiser, epochs=100):\n",
        "#     def train(model, optimiser, scheduler = None, epochs=100):\n",
        "    model = model.to(device=device)\n",
        "    for epoch in range(epochs):\n",
        "        for i, (xi, yi) in enumerate(train_loader):\n",
        "            model.train()\n",
        "            xi = xi.to(device=device, dtype=torch.float32)\n",
        "            yi = yi.to(device=device, dtype=torch.long)\n",
        "            scores = model(xi)\n",
        "\n",
        "            cost = F.cross_entropy(input= scores, target=yi)\n",
        "\n",
        "            optimiser.zero_grad()\n",
        "            cost.backward()\n",
        "            optimiser.step()\n",
        "\n",
        "        acc = accuracy(model, val_loader)\n",
        "        #if epoch%5 == 0:\n",
        "        print(f'Epoch: {epoch}, costo: {cost.item()}, accuracy: {acc},')\n",
        "#         scheduler.step()"
      ]
    },
    {
      "cell_type": "code",
      "execution_count": 18,
      "metadata": {
        "id": "uruLr-gqH9Pm"
      },
      "outputs": [],
      "source": [
        "lr = 5e-4\n",
        "epochs = 3\n",
        "\n",
        "model1 = nn.Sequential(model_aux,\n",
        "                       nn.Flatten(),\n",
        "                       nn.Linear(in_features=512, out_features= 10, bias= True))\n",
        "optimiser = torch.optim.Adam(model1.parameters(), lr=lr, betas=(0.9, 0.999))\n",
        "\n",
        "# train(model1, optimiser, epochs)"
      ]
    },
    {
      "cell_type": "code",
      "execution_count": 19,
      "metadata": {
        "scrolled": true,
        "colab": {
          "base_uri": "https://localhost:8080/"
        },
        "id": "kJ3ordYwH9Pm",
        "outputId": "3b945671-17a0-4d28-854d-84f48c2feb87",
        "collapsed": true
      },
      "outputs": [
        {
          "output_type": "execute_result",
          "data": {
            "text/plain": [
              "Sequential(\n",
              "  (0): Sequential(\n",
              "    (0): Conv2d(3, 64, kernel_size=(7, 7), stride=(2, 2), padding=(3, 3), bias=False)\n",
              "    (1): BatchNorm2d(64, eps=1e-05, momentum=0.1, affine=True, track_running_stats=True)\n",
              "    (2): ReLU(inplace=True)\n",
              "    (3): MaxPool2d(kernel_size=3, stride=2, padding=1, dilation=1, ceil_mode=False)\n",
              "    (4): Sequential(\n",
              "      (0): BasicBlock(\n",
              "        (conv1): Conv2d(64, 64, kernel_size=(3, 3), stride=(1, 1), padding=(1, 1), bias=False)\n",
              "        (bn1): BatchNorm2d(64, eps=1e-05, momentum=0.1, affine=True, track_running_stats=True)\n",
              "        (relu): ReLU(inplace=True)\n",
              "        (conv2): Conv2d(64, 64, kernel_size=(3, 3), stride=(1, 1), padding=(1, 1), bias=False)\n",
              "        (bn2): BatchNorm2d(64, eps=1e-05, momentum=0.1, affine=True, track_running_stats=True)\n",
              "      )\n",
              "      (1): BasicBlock(\n",
              "        (conv1): Conv2d(64, 64, kernel_size=(3, 3), stride=(1, 1), padding=(1, 1), bias=False)\n",
              "        (bn1): BatchNorm2d(64, eps=1e-05, momentum=0.1, affine=True, track_running_stats=True)\n",
              "        (relu): ReLU(inplace=True)\n",
              "        (conv2): Conv2d(64, 64, kernel_size=(3, 3), stride=(1, 1), padding=(1, 1), bias=False)\n",
              "        (bn2): BatchNorm2d(64, eps=1e-05, momentum=0.1, affine=True, track_running_stats=True)\n",
              "      )\n",
              "    )\n",
              "    (5): Sequential(\n",
              "      (0): BasicBlock(\n",
              "        (conv1): Conv2d(64, 128, kernel_size=(3, 3), stride=(2, 2), padding=(1, 1), bias=False)\n",
              "        (bn1): BatchNorm2d(128, eps=1e-05, momentum=0.1, affine=True, track_running_stats=True)\n",
              "        (relu): ReLU(inplace=True)\n",
              "        (conv2): Conv2d(128, 128, kernel_size=(3, 3), stride=(1, 1), padding=(1, 1), bias=False)\n",
              "        (bn2): BatchNorm2d(128, eps=1e-05, momentum=0.1, affine=True, track_running_stats=True)\n",
              "        (downsample): Sequential(\n",
              "          (0): Conv2d(64, 128, kernel_size=(1, 1), stride=(2, 2), bias=False)\n",
              "          (1): BatchNorm2d(128, eps=1e-05, momentum=0.1, affine=True, track_running_stats=True)\n",
              "        )\n",
              "      )\n",
              "      (1): BasicBlock(\n",
              "        (conv1): Conv2d(128, 128, kernel_size=(3, 3), stride=(1, 1), padding=(1, 1), bias=False)\n",
              "        (bn1): BatchNorm2d(128, eps=1e-05, momentum=0.1, affine=True, track_running_stats=True)\n",
              "        (relu): ReLU(inplace=True)\n",
              "        (conv2): Conv2d(128, 128, kernel_size=(3, 3), stride=(1, 1), padding=(1, 1), bias=False)\n",
              "        (bn2): BatchNorm2d(128, eps=1e-05, momentum=0.1, affine=True, track_running_stats=True)\n",
              "      )\n",
              "    )\n",
              "    (6): Sequential(\n",
              "      (0): BasicBlock(\n",
              "        (conv1): Conv2d(128, 256, kernel_size=(3, 3), stride=(2, 2), padding=(1, 1), bias=False)\n",
              "        (bn1): BatchNorm2d(256, eps=1e-05, momentum=0.1, affine=True, track_running_stats=True)\n",
              "        (relu): ReLU(inplace=True)\n",
              "        (conv2): Conv2d(256, 256, kernel_size=(3, 3), stride=(1, 1), padding=(1, 1), bias=False)\n",
              "        (bn2): BatchNorm2d(256, eps=1e-05, momentum=0.1, affine=True, track_running_stats=True)\n",
              "        (downsample): Sequential(\n",
              "          (0): Conv2d(128, 256, kernel_size=(1, 1), stride=(2, 2), bias=False)\n",
              "          (1): BatchNorm2d(256, eps=1e-05, momentum=0.1, affine=True, track_running_stats=True)\n",
              "        )\n",
              "      )\n",
              "      (1): BasicBlock(\n",
              "        (conv1): Conv2d(256, 256, kernel_size=(3, 3), stride=(1, 1), padding=(1, 1), bias=False)\n",
              "        (bn1): BatchNorm2d(256, eps=1e-05, momentum=0.1, affine=True, track_running_stats=True)\n",
              "        (relu): ReLU(inplace=True)\n",
              "        (conv2): Conv2d(256, 256, kernel_size=(3, 3), stride=(1, 1), padding=(1, 1), bias=False)\n",
              "        (bn2): BatchNorm2d(256, eps=1e-05, momentum=0.1, affine=True, track_running_stats=True)\n",
              "      )\n",
              "    )\n",
              "    (7): Sequential(\n",
              "      (0): BasicBlock(\n",
              "        (conv1): Conv2d(256, 512, kernel_size=(3, 3), stride=(2, 2), padding=(1, 1), bias=False)\n",
              "        (bn1): BatchNorm2d(512, eps=1e-05, momentum=0.1, affine=True, track_running_stats=True)\n",
              "        (relu): ReLU(inplace=True)\n",
              "        (conv2): Conv2d(512, 512, kernel_size=(3, 3), stride=(1, 1), padding=(1, 1), bias=False)\n",
              "        (bn2): BatchNorm2d(512, eps=1e-05, momentum=0.1, affine=True, track_running_stats=True)\n",
              "        (downsample): Sequential(\n",
              "          (0): Conv2d(256, 512, kernel_size=(1, 1), stride=(2, 2), bias=False)\n",
              "          (1): BatchNorm2d(512, eps=1e-05, momentum=0.1, affine=True, track_running_stats=True)\n",
              "        )\n",
              "      )\n",
              "      (1): BasicBlock(\n",
              "        (conv1): Conv2d(512, 512, kernel_size=(3, 3), stride=(1, 1), padding=(1, 1), bias=False)\n",
              "        (bn1): BatchNorm2d(512, eps=1e-05, momentum=0.1, affine=True, track_running_stats=True)\n",
              "        (relu): ReLU(inplace=True)\n",
              "        (conv2): Conv2d(512, 512, kernel_size=(3, 3), stride=(1, 1), padding=(1, 1), bias=False)\n",
              "        (bn2): BatchNorm2d(512, eps=1e-05, momentum=0.1, affine=True, track_running_stats=True)\n",
              "      )\n",
              "    )\n",
              "    (8): AdaptiveAvgPool2d(output_size=(1, 1))\n",
              "  )\n",
              "  (1): Flatten(start_dim=1, end_dim=-1)\n",
              "  (2): Linear(in_features=512, out_features=10, bias=True)\n",
              ")"
            ]
          },
          "metadata": {},
          "execution_count": 19
        }
      ],
      "source": [
        "model1"
      ]
    },
    {
      "cell_type": "code",
      "execution_count": 20,
      "metadata": {
        "colab": {
          "base_uri": "https://localhost:8080/"
        },
        "id": "G-XE4aTzH9Pm",
        "outputId": "a85f7952-7057-466d-f729-cc5f65380f45"
      },
      "outputs": [
        {
          "output_type": "stream",
          "name": "stdout",
          "text": [
            "Epoch: 0, costo: 1.036940574645996, accuracy: 0.7742,\n",
            "Epoch: 1, costo: 0.7472242116928101, accuracy: 0.7878,\n",
            "Epoch: 2, costo: 1.3116583824157715, accuracy: 0.7988,\n"
          ]
        }
      ],
      "source": [
        "train(model1, optimiser, epochs)"
      ]
    },
    {
      "cell_type": "code",
      "execution_count": 21,
      "metadata": {
        "colab": {
          "base_uri": "https://localhost:8080/"
        },
        "id": "6fhaWVPvH9Pm",
        "outputId": "3e712b75-8604-472f-9637-ab1f411edb9c"
      },
      "outputs": [
        {
          "output_type": "execute_result",
          "data": {
            "text/plain": [
              "0.7971"
            ]
          },
          "metadata": {},
          "execution_count": 21
        }
      ],
      "source": [
        "accuracy(model1, test_loader)"
      ]
    },
    {
      "cell_type": "markdown",
      "source": [
        "###Function to randomly sample image from  test dataset to test model"
      ],
      "metadata": {
        "id": "fxigrOubjHnR"
      }
    },
    {
      "cell_type": "code",
      "source": [
        "# Define a reusable function\n",
        "def display_rnd_pred(model):\n",
        "    \"\"\"\n",
        "    Randomly samples an image from the test dataset, performs inference using\n",
        "    the provided model, and displays the image along with the predicted and\n",
        "    true class labels.\n",
        "\n",
        "    Parameters:\n",
        "    -----------\n",
        "    model : torch.nn.Module\n",
        "        The trained PyTorch model to use for prediction.\n",
        "\n",
        "    Returns:\n",
        "    --------\n",
        "    None\n",
        "        The function displays the image along with the predicted and true labels.\n",
        "\n",
        "    Description:\n",
        "    ------------\n",
        "    1. The model is set to evaluation mode (`model.eval()`).\n",
        "    2. A random image from the test dataset is selected, and inference is\n",
        "       performed to predict its class.\n",
        "    3. The predicted and true class names are displayed, along with the image.\n",
        "    4. The image is de-normalized and displayed\n",
        "\n",
        "    Example:\n",
        "    --------\n",
        "    display_rnd_pred(modeloCNN)\n",
        "    \"\"\"\n",
        "    model.eval()  # Set model to evaluation mode\n",
        "\n",
        "    # Randomly sample an image from the test dataset\n",
        "    sample_idx = torch.randint(len(test_loader.dataset), size=(1,)).item()\n",
        "    image, true_label = test_loader.dataset[sample_idx]\n",
        "\n",
        "    # Move the image to the correct device and add a batch dimension\n",
        "    image = image.to(device).unsqueeze(0)  # Add batch dimension for inference\n",
        "\n",
        "    # Perform forward pass without calculating gradients\n",
        "    with torch.no_grad():\n",
        "        outputs = model(image)\n",
        "\n",
        "    # Get the predicted class\n",
        "    _, predicted_label = outputs.max(1)\n",
        "\n",
        "    # Convert prediction and true label to class names\n",
        "    predicted_class = test_loader.dataset.classes[predicted_label.item()]\n",
        "    true_class = test_loader.dataset.classes[true_label]\n",
        "\n",
        "    # Display the image and the prediction\n",
        "    image = torch.clamp(image, 0, 1)  # Clamp the image to valid pixel range\n",
        "    plt.imshow(image.squeeze().permute(1, 2, 0).cpu().numpy() * 0.5 + 0.5)\n",
        "    plt.title(f'Predicted Class: {predicted_class}, Actual Class: {true_class}')\n",
        "    plt.show()"
      ],
      "metadata": {
        "id": "6wHuM978jGPa"
      },
      "execution_count": 22,
      "outputs": []
    },
    {
      "cell_type": "markdown",
      "source": [
        "## Model VGG16\n",
        "\n",
        "VGG16 is a convolutional neural network (CNN) model with 16 layers that's used to classify images:\n",
        "\n",
        "<u>Layers</u>: VGG16 has 13 convolution layers, three fully connected layers, and a softmax for output.\n",
        "\n",
        "<u>Training</u>: The Visual Geometry Group at the University of Oxford trained VGG16 on over 1.2 million images from the ImageNet database.\n",
        "\n",
        "<u>Classification</u>: VGG16 can classify images into 1,000 object categories, such as animals, keyboards, mice, and pencils.\n",
        "\n",
        "<u>Architecture</u>: VGG16 uses convolution layers with a 3x3 filter and stride 1, and maxpool layers with a 2x2 filter and stride 2.\n",
        "\n",
        "<u>Parameters</u>: VGG16 has around 138 million parameters\n",
        "\n",
        "<u>Images</u>: The images are resized to resize_size=[256] using interpolation=InterpolationMode.BILINEAR, followed by a central crop of crop_size=[224]. Finally the values are first rescaled to [0.0, 1.0] and then normalized using mean=[0.485, 0.456, 0.406] and std=[0.229, 0.224, 0.225]. [1]\n",
        "\n",
        "---\n",
        "References:\n",
        "[1] *vgg16 — Torchvision main documentation.* (s. f.). https://pytorch.org/vision/main/models/generated/torchvision.models.vgg16.html\n",
        "\n"
      ],
      "metadata": {
        "id": "raFek21J7UjB"
      }
    },
    {
      "cell_type": "code",
      "source": [
        "DATA_PATH = '/content/drive/MyDrive/Colab Notebooks/DL/A2C/cifar-10-batches-py'\n",
        "NUM_TRAIN = 45000\n",
        "MINIBATCH_SIZE = 64\n",
        "transform_vgg16 = T.Compose([T.Resize(256, interpolation=InterpolationMode.BILINEAR),\n",
        "                             T.CenterCrop(224),\n",
        "                             T.ToTensor(),\n",
        "                             T.Normalize(mean=[0.485, 0.456, 0.406], std=[0.229, 0.224, 0.225])\n",
        "            ])\n",
        "\n",
        "# Training set loader\n",
        "cifar10_train = datasets.CIFAR10(DATA_PATH, train=True, download=True,\n",
        "                             transform=transform_vgg16)\n",
        "train_loader = DataLoader(cifar10_train, batch_size=MINIBATCH_SIZE,\n",
        "                          sampler=sampler.SubsetRandomSampler(range(NUM_TRAIN)))\n",
        "\n",
        "# Validation set loader\n",
        "cifar10_val = datasets.CIFAR10(DATA_PATH, train=True, download=True,\n",
        "                           transform=transform_vgg16)\n",
        "val_loader = DataLoader(cifar10_val, batch_size=MINIBATCH_SIZE,\n",
        "                        sampler=sampler.SubsetRandomSampler(range(NUM_TRAIN, len(cifar10_val))))\n",
        "\n",
        "# Testing set loader\n",
        "cifar10_test = datasets.CIFAR10(DATA_PATH, train=False, download=True,\n",
        "                            transform=transform_vgg16)\n",
        "test_loader = DataLoader(cifar10_test, batch_size=MINIBATCH_SIZE)"
      ],
      "metadata": {
        "colab": {
          "base_uri": "https://localhost:8080/"
        },
        "id": "HcVqgQIiGKB4",
        "outputId": "720a5883-c4c7-42b4-a532-f3ae2b051424"
      },
      "execution_count": 23,
      "outputs": [
        {
          "output_type": "stream",
          "name": "stdout",
          "text": [
            "Files already downloaded and verified\n",
            "Files already downloaded and verified\n",
            "Files already downloaded and verified\n"
          ]
        }
      ]
    },
    {
      "cell_type": "markdown",
      "source": [
        "### Load the VGG16 Model"
      ],
      "metadata": {
        "id": "iej1P7dfixZ8"
      }
    },
    {
      "cell_type": "code",
      "execution_count": 24,
      "metadata": {
        "id": "EG_KWLL0H9Pm",
        "colab": {
          "base_uri": "https://localhost:8080/"
        },
        "outputId": "ac4195f3-ded6-488d-acab-b7e44800b5f1"
      },
      "outputs": [
        {
          "output_type": "stream",
          "name": "stderr",
          "text": [
            "Downloading: \"https://download.pytorch.org/models/vgg16-397923af.pth\" to /root/.cache/torch/hub/checkpoints/vgg16-397923af.pth\n",
            "100%|██████████| 528M/528M [00:04<00:00, 125MB/s]\n"
          ]
        }
      ],
      "source": [
        "#\n",
        "# Load pre-trained models with the weights as defined in VGG16_Weights.IMAGENET1K_V1\n",
        "model_vgg16 = models.vgg16(weights=models.VGG16_Weights.IMAGENET1K_V1)"
      ]
    },
    {
      "cell_type": "code",
      "source": [
        "for i, w in enumerate(model_vgg16.parameters()):\n",
        "    print(i, w.shape, w.requires_grad)"
      ],
      "metadata": {
        "colab": {
          "base_uri": "https://localhost:8080/"
        },
        "collapsed": true,
        "id": "SIk2Tp3S8HWF",
        "outputId": "07914388-3099-4273-fa5e-f981fc96977d"
      },
      "execution_count": 25,
      "outputs": [
        {
          "output_type": "stream",
          "name": "stdout",
          "text": [
            "0 torch.Size([64, 3, 3, 3]) True\n",
            "1 torch.Size([64]) True\n",
            "2 torch.Size([64, 64, 3, 3]) True\n",
            "3 torch.Size([64]) True\n",
            "4 torch.Size([128, 64, 3, 3]) True\n",
            "5 torch.Size([128]) True\n",
            "6 torch.Size([128, 128, 3, 3]) True\n",
            "7 torch.Size([128]) True\n",
            "8 torch.Size([256, 128, 3, 3]) True\n",
            "9 torch.Size([256]) True\n",
            "10 torch.Size([256, 256, 3, 3]) True\n",
            "11 torch.Size([256]) True\n",
            "12 torch.Size([256, 256, 3, 3]) True\n",
            "13 torch.Size([256]) True\n",
            "14 torch.Size([512, 256, 3, 3]) True\n",
            "15 torch.Size([512]) True\n",
            "16 torch.Size([512, 512, 3, 3]) True\n",
            "17 torch.Size([512]) True\n",
            "18 torch.Size([512, 512, 3, 3]) True\n",
            "19 torch.Size([512]) True\n",
            "20 torch.Size([512, 512, 3, 3]) True\n",
            "21 torch.Size([512]) True\n",
            "22 torch.Size([512, 512, 3, 3]) True\n",
            "23 torch.Size([512]) True\n",
            "24 torch.Size([512, 512, 3, 3]) True\n",
            "25 torch.Size([512]) True\n",
            "26 torch.Size([4096, 25088]) True\n",
            "27 torch.Size([4096]) True\n",
            "28 torch.Size([4096, 4096]) True\n",
            "29 torch.Size([4096]) True\n",
            "30 torch.Size([1000, 4096]) True\n",
            "31 torch.Size([1000]) True\n"
          ]
        }
      ]
    },
    {
      "cell_type": "code",
      "source": [
        "model_vgg16"
      ],
      "metadata": {
        "colab": {
          "base_uri": "https://localhost:8080/"
        },
        "collapsed": true,
        "id": "LxabT0ld8cVf",
        "outputId": "86fa7ad2-5032-4e36-b2b5-6dfcc2cc1329"
      },
      "execution_count": 26,
      "outputs": [
        {
          "output_type": "execute_result",
          "data": {
            "text/plain": [
              "VGG(\n",
              "  (features): Sequential(\n",
              "    (0): Conv2d(3, 64, kernel_size=(3, 3), stride=(1, 1), padding=(1, 1))\n",
              "    (1): ReLU(inplace=True)\n",
              "    (2): Conv2d(64, 64, kernel_size=(3, 3), stride=(1, 1), padding=(1, 1))\n",
              "    (3): ReLU(inplace=True)\n",
              "    (4): MaxPool2d(kernel_size=2, stride=2, padding=0, dilation=1, ceil_mode=False)\n",
              "    (5): Conv2d(64, 128, kernel_size=(3, 3), stride=(1, 1), padding=(1, 1))\n",
              "    (6): ReLU(inplace=True)\n",
              "    (7): Conv2d(128, 128, kernel_size=(3, 3), stride=(1, 1), padding=(1, 1))\n",
              "    (8): ReLU(inplace=True)\n",
              "    (9): MaxPool2d(kernel_size=2, stride=2, padding=0, dilation=1, ceil_mode=False)\n",
              "    (10): Conv2d(128, 256, kernel_size=(3, 3), stride=(1, 1), padding=(1, 1))\n",
              "    (11): ReLU(inplace=True)\n",
              "    (12): Conv2d(256, 256, kernel_size=(3, 3), stride=(1, 1), padding=(1, 1))\n",
              "    (13): ReLU(inplace=True)\n",
              "    (14): Conv2d(256, 256, kernel_size=(3, 3), stride=(1, 1), padding=(1, 1))\n",
              "    (15): ReLU(inplace=True)\n",
              "    (16): MaxPool2d(kernel_size=2, stride=2, padding=0, dilation=1, ceil_mode=False)\n",
              "    (17): Conv2d(256, 512, kernel_size=(3, 3), stride=(1, 1), padding=(1, 1))\n",
              "    (18): ReLU(inplace=True)\n",
              "    (19): Conv2d(512, 512, kernel_size=(3, 3), stride=(1, 1), padding=(1, 1))\n",
              "    (20): ReLU(inplace=True)\n",
              "    (21): Conv2d(512, 512, kernel_size=(3, 3), stride=(1, 1), padding=(1, 1))\n",
              "    (22): ReLU(inplace=True)\n",
              "    (23): MaxPool2d(kernel_size=2, stride=2, padding=0, dilation=1, ceil_mode=False)\n",
              "    (24): Conv2d(512, 512, kernel_size=(3, 3), stride=(1, 1), padding=(1, 1))\n",
              "    (25): ReLU(inplace=True)\n",
              "    (26): Conv2d(512, 512, kernel_size=(3, 3), stride=(1, 1), padding=(1, 1))\n",
              "    (27): ReLU(inplace=True)\n",
              "    (28): Conv2d(512, 512, kernel_size=(3, 3), stride=(1, 1), padding=(1, 1))\n",
              "    (29): ReLU(inplace=True)\n",
              "    (30): MaxPool2d(kernel_size=2, stride=2, padding=0, dilation=1, ceil_mode=False)\n",
              "  )\n",
              "  (avgpool): AdaptiveAvgPool2d(output_size=(7, 7))\n",
              "  (classifier): Sequential(\n",
              "    (0): Linear(in_features=25088, out_features=4096, bias=True)\n",
              "    (1): ReLU(inplace=True)\n",
              "    (2): Dropout(p=0.5, inplace=False)\n",
              "    (3): Linear(in_features=4096, out_features=4096, bias=True)\n",
              "    (4): ReLU(inplace=True)\n",
              "    (5): Dropout(p=0.5, inplace=False)\n",
              "    (6): Linear(in_features=4096, out_features=1000, bias=True)\n",
              "  )\n",
              ")"
            ]
          },
          "metadata": {},
          "execution_count": 26
        }
      ]
    },
    {
      "cell_type": "code",
      "source": [
        "model_vgg16_aux = nn.Sequential(*list(model_vgg16.children()))\n",
        "model_vgg16_aux"
      ],
      "metadata": {
        "colab": {
          "base_uri": "https://localhost:8080/"
        },
        "collapsed": true,
        "id": "DKgknjjm8qky",
        "outputId": "ad869a26-aebd-4778-9c3c-89f5b051f29b"
      },
      "execution_count": 27,
      "outputs": [
        {
          "output_type": "execute_result",
          "data": {
            "text/plain": [
              "Sequential(\n",
              "  (0): Sequential(\n",
              "    (0): Conv2d(3, 64, kernel_size=(3, 3), stride=(1, 1), padding=(1, 1))\n",
              "    (1): ReLU(inplace=True)\n",
              "    (2): Conv2d(64, 64, kernel_size=(3, 3), stride=(1, 1), padding=(1, 1))\n",
              "    (3): ReLU(inplace=True)\n",
              "    (4): MaxPool2d(kernel_size=2, stride=2, padding=0, dilation=1, ceil_mode=False)\n",
              "    (5): Conv2d(64, 128, kernel_size=(3, 3), stride=(1, 1), padding=(1, 1))\n",
              "    (6): ReLU(inplace=True)\n",
              "    (7): Conv2d(128, 128, kernel_size=(3, 3), stride=(1, 1), padding=(1, 1))\n",
              "    (8): ReLU(inplace=True)\n",
              "    (9): MaxPool2d(kernel_size=2, stride=2, padding=0, dilation=1, ceil_mode=False)\n",
              "    (10): Conv2d(128, 256, kernel_size=(3, 3), stride=(1, 1), padding=(1, 1))\n",
              "    (11): ReLU(inplace=True)\n",
              "    (12): Conv2d(256, 256, kernel_size=(3, 3), stride=(1, 1), padding=(1, 1))\n",
              "    (13): ReLU(inplace=True)\n",
              "    (14): Conv2d(256, 256, kernel_size=(3, 3), stride=(1, 1), padding=(1, 1))\n",
              "    (15): ReLU(inplace=True)\n",
              "    (16): MaxPool2d(kernel_size=2, stride=2, padding=0, dilation=1, ceil_mode=False)\n",
              "    (17): Conv2d(256, 512, kernel_size=(3, 3), stride=(1, 1), padding=(1, 1))\n",
              "    (18): ReLU(inplace=True)\n",
              "    (19): Conv2d(512, 512, kernel_size=(3, 3), stride=(1, 1), padding=(1, 1))\n",
              "    (20): ReLU(inplace=True)\n",
              "    (21): Conv2d(512, 512, kernel_size=(3, 3), stride=(1, 1), padding=(1, 1))\n",
              "    (22): ReLU(inplace=True)\n",
              "    (23): MaxPool2d(kernel_size=2, stride=2, padding=0, dilation=1, ceil_mode=False)\n",
              "    (24): Conv2d(512, 512, kernel_size=(3, 3), stride=(1, 1), padding=(1, 1))\n",
              "    (25): ReLU(inplace=True)\n",
              "    (26): Conv2d(512, 512, kernel_size=(3, 3), stride=(1, 1), padding=(1, 1))\n",
              "    (27): ReLU(inplace=True)\n",
              "    (28): Conv2d(512, 512, kernel_size=(3, 3), stride=(1, 1), padding=(1, 1))\n",
              "    (29): ReLU(inplace=True)\n",
              "    (30): MaxPool2d(kernel_size=2, stride=2, padding=0, dilation=1, ceil_mode=False)\n",
              "  )\n",
              "  (1): AdaptiveAvgPool2d(output_size=(7, 7))\n",
              "  (2): Sequential(\n",
              "    (0): Linear(in_features=25088, out_features=4096, bias=True)\n",
              "    (1): ReLU(inplace=True)\n",
              "    (2): Dropout(p=0.5, inplace=False)\n",
              "    (3): Linear(in_features=4096, out_features=4096, bias=True)\n",
              "    (4): ReLU(inplace=True)\n",
              "    (5): Dropout(p=0.5, inplace=False)\n",
              "    (6): Linear(in_features=4096, out_features=1000, bias=True)\n",
              "  )\n",
              ")"
            ]
          },
          "metadata": {},
          "execution_count": 27
        }
      ]
    },
    {
      "cell_type": "code",
      "source": [
        "# Avoid the calculation of gradients during backpropagation by freezeing the weights\n",
        "for i, parameter in enumerate(model_vgg16_aux.parameters()):\n",
        "    parameter.requires_grad = False"
      ],
      "metadata": {
        "id": "Zh1s3jzKokSO"
      },
      "execution_count": 28,
      "outputs": []
    },
    {
      "cell_type": "code",
      "source": [
        "# Verify all parameters were set correctly\n",
        "for i, parameter in enumerate(model_vgg16_aux.parameters()):\n",
        "    print(f'{i}: Require Parameter: {parameter.requires_grad}')"
      ],
      "metadata": {
        "colab": {
          "base_uri": "https://localhost:8080/"
        },
        "collapsed": true,
        "id": "ILk64rFFoneM",
        "outputId": "39a3bcef-343c-4bd4-afca-b1ad288e5ff5"
      },
      "execution_count": 29,
      "outputs": [
        {
          "output_type": "stream",
          "name": "stdout",
          "text": [
            "0: Require Parameter: False\n",
            "1: Require Parameter: False\n",
            "2: Require Parameter: False\n",
            "3: Require Parameter: False\n",
            "4: Require Parameter: False\n",
            "5: Require Parameter: False\n",
            "6: Require Parameter: False\n",
            "7: Require Parameter: False\n",
            "8: Require Parameter: False\n",
            "9: Require Parameter: False\n",
            "10: Require Parameter: False\n",
            "11: Require Parameter: False\n",
            "12: Require Parameter: False\n",
            "13: Require Parameter: False\n",
            "14: Require Parameter: False\n",
            "15: Require Parameter: False\n",
            "16: Require Parameter: False\n",
            "17: Require Parameter: False\n",
            "18: Require Parameter: False\n",
            "19: Require Parameter: False\n",
            "20: Require Parameter: False\n",
            "21: Require Parameter: False\n",
            "22: Require Parameter: False\n",
            "23: Require Parameter: False\n",
            "24: Require Parameter: False\n",
            "25: Require Parameter: False\n",
            "26: Require Parameter: False\n",
            "27: Require Parameter: False\n",
            "28: Require Parameter: False\n",
            "29: Require Parameter: False\n",
            "30: Require Parameter: False\n",
            "31: Require Parameter: False\n"
          ]
        }
      ]
    },
    {
      "cell_type": "code",
      "source": [
        "# Extract the fully connected layers (the last Sequential block)\n",
        "fc_layers = list(model_vgg16_aux.children())[-1]"
      ],
      "metadata": {
        "id": "CKr8Fhxu8ztF"
      },
      "execution_count": 30,
      "outputs": []
    },
    {
      "cell_type": "code",
      "source": [
        "# Convert Sequential block to a list to modify\n",
        "fc_layers_list = list(fc_layers.children())\n",
        "fc_layers_list"
      ],
      "metadata": {
        "colab": {
          "base_uri": "https://localhost:8080/"
        },
        "collapsed": true,
        "id": "h599Zd2o9BEI",
        "outputId": "291ee1fc-6647-4acb-8588-6800d9f700e8"
      },
      "execution_count": 31,
      "outputs": [
        {
          "output_type": "execute_result",
          "data": {
            "text/plain": [
              "[Linear(in_features=25088, out_features=4096, bias=True),\n",
              " ReLU(inplace=True),\n",
              " Dropout(p=0.5, inplace=False),\n",
              " Linear(in_features=4096, out_features=4096, bias=True),\n",
              " ReLU(inplace=True),\n",
              " Dropout(p=0.5, inplace=False),\n",
              " Linear(in_features=4096, out_features=1000, bias=True)]"
            ]
          },
          "metadata": {},
          "execution_count": 31
        }
      ]
    },
    {
      "cell_type": "code",
      "source": [
        "# Extract the original in_features\n",
        "in_features = fc_layers_list[-1].in_features\n",
        "# Set out_features to match the number of classes (10)\n",
        "out_features = 10\n",
        "fc_layers_list[-1] = nn.Linear(in_features=in_features, out_features=out_features, bias=True)\n",
        "# Rebuild the Sequential block with the modified layer\n",
        "new_fc_layers = nn.Sequential(*fc_layers_list)\n",
        "\n",
        "# Replace the original fully connected layers with the modified one\n",
        "model_vgg16_aux = nn.Sequential(\n",
        "    *list(model_vgg16_aux.children())[:-1],\n",
        "    nn.Flatten(),\n",
        "    new_fc_layers\n",
        ")"
      ],
      "metadata": {
        "id": "MoPNpu79oukb"
      },
      "execution_count": 32,
      "outputs": []
    },
    {
      "cell_type": "code",
      "source": [
        "# Verify that the model has the correct number of outputs\n",
        "model_vgg16_aux"
      ],
      "metadata": {
        "colab": {
          "base_uri": "https://localhost:8080/"
        },
        "collapsed": true,
        "id": "BzHGRXfkpJbq",
        "outputId": "611c3c10-744e-4a5c-ffb1-3fbf43c94d6a"
      },
      "execution_count": 33,
      "outputs": [
        {
          "output_type": "execute_result",
          "data": {
            "text/plain": [
              "Sequential(\n",
              "  (0): Sequential(\n",
              "    (0): Conv2d(3, 64, kernel_size=(3, 3), stride=(1, 1), padding=(1, 1))\n",
              "    (1): ReLU(inplace=True)\n",
              "    (2): Conv2d(64, 64, kernel_size=(3, 3), stride=(1, 1), padding=(1, 1))\n",
              "    (3): ReLU(inplace=True)\n",
              "    (4): MaxPool2d(kernel_size=2, stride=2, padding=0, dilation=1, ceil_mode=False)\n",
              "    (5): Conv2d(64, 128, kernel_size=(3, 3), stride=(1, 1), padding=(1, 1))\n",
              "    (6): ReLU(inplace=True)\n",
              "    (7): Conv2d(128, 128, kernel_size=(3, 3), stride=(1, 1), padding=(1, 1))\n",
              "    (8): ReLU(inplace=True)\n",
              "    (9): MaxPool2d(kernel_size=2, stride=2, padding=0, dilation=1, ceil_mode=False)\n",
              "    (10): Conv2d(128, 256, kernel_size=(3, 3), stride=(1, 1), padding=(1, 1))\n",
              "    (11): ReLU(inplace=True)\n",
              "    (12): Conv2d(256, 256, kernel_size=(3, 3), stride=(1, 1), padding=(1, 1))\n",
              "    (13): ReLU(inplace=True)\n",
              "    (14): Conv2d(256, 256, kernel_size=(3, 3), stride=(1, 1), padding=(1, 1))\n",
              "    (15): ReLU(inplace=True)\n",
              "    (16): MaxPool2d(kernel_size=2, stride=2, padding=0, dilation=1, ceil_mode=False)\n",
              "    (17): Conv2d(256, 512, kernel_size=(3, 3), stride=(1, 1), padding=(1, 1))\n",
              "    (18): ReLU(inplace=True)\n",
              "    (19): Conv2d(512, 512, kernel_size=(3, 3), stride=(1, 1), padding=(1, 1))\n",
              "    (20): ReLU(inplace=True)\n",
              "    (21): Conv2d(512, 512, kernel_size=(3, 3), stride=(1, 1), padding=(1, 1))\n",
              "    (22): ReLU(inplace=True)\n",
              "    (23): MaxPool2d(kernel_size=2, stride=2, padding=0, dilation=1, ceil_mode=False)\n",
              "    (24): Conv2d(512, 512, kernel_size=(3, 3), stride=(1, 1), padding=(1, 1))\n",
              "    (25): ReLU(inplace=True)\n",
              "    (26): Conv2d(512, 512, kernel_size=(3, 3), stride=(1, 1), padding=(1, 1))\n",
              "    (27): ReLU(inplace=True)\n",
              "    (28): Conv2d(512, 512, kernel_size=(3, 3), stride=(1, 1), padding=(1, 1))\n",
              "    (29): ReLU(inplace=True)\n",
              "    (30): MaxPool2d(kernel_size=2, stride=2, padding=0, dilation=1, ceil_mode=False)\n",
              "  )\n",
              "  (1): AdaptiveAvgPool2d(output_size=(7, 7))\n",
              "  (2): Flatten(start_dim=1, end_dim=-1)\n",
              "  (3): Sequential(\n",
              "    (0): Linear(in_features=25088, out_features=4096, bias=True)\n",
              "    (1): ReLU(inplace=True)\n",
              "    (2): Dropout(p=0.5, inplace=False)\n",
              "    (3): Linear(in_features=4096, out_features=4096, bias=True)\n",
              "    (4): ReLU(inplace=True)\n",
              "    (5): Dropout(p=0.5, inplace=False)\n",
              "    (6): Linear(in_features=4096, out_features=10, bias=True)\n",
              "  )\n",
              ")"
            ]
          },
          "metadata": {},
          "execution_count": 33
        }
      ]
    },
    {
      "cell_type": "code",
      "source": [
        "# Define learning rate and number of epochs for training\n",
        "lr = 5e-4  # Learning rate: 0.0005, controls the step size during optimization\n",
        "epochs = 3  # Number of epochs to train the model\n",
        "\n",
        "# Assign the model to model_2 for consistency with other cells in the notebook\n",
        "model_2 = model_vgg16_aux\n",
        "\n",
        "# Define the optimizer\n",
        "optimiser = torch.optim.Adam(\n",
        "    model_2.parameters(),\n",
        "    lr=lr,\n",
        "    betas=(0.9, 0.999)\n",
        ")"
      ],
      "metadata": {
        "id": "E7FdWEDi9dvb"
      },
      "execution_count": 34,
      "outputs": []
    },
    {
      "cell_type": "markdown",
      "source": [
        "### Train the Model"
      ],
      "metadata": {
        "id": "CvnZUytbiihX"
      }
    },
    {
      "cell_type": "code",
      "source": [
        "# Train the model\n",
        "train(model_2, optimiser, epochs)"
      ],
      "metadata": {
        "colab": {
          "base_uri": "https://localhost:8080/"
        },
        "id": "xRjxuv4_-DXE",
        "outputId": "da477912-9cef-4522-d254-c5171f3f7187"
      },
      "execution_count": 35,
      "outputs": [
        {
          "output_type": "stream",
          "name": "stdout",
          "text": [
            "Epoch: 0, costo: 1.0359162092208862, accuracy: 0.811,\n",
            "Epoch: 1, costo: 0.7504687309265137, accuracy: 0.8268,\n",
            "Epoch: 2, costo: 0.9735037684440613, accuracy: 0.8298,\n"
          ]
        }
      ]
    },
    {
      "cell_type": "markdown",
      "source": [
        "###Calculate VGG16 Model Accuracy with Test Dataset"
      ],
      "metadata": {
        "id": "AmxndnfwiiRa"
      }
    },
    {
      "cell_type": "code",
      "source": [
        "print(f'Accuracy: {accuracy(model_2, test_loader)}')"
      ],
      "metadata": {
        "id": "KRGROZekhnm6",
        "outputId": "d00bd7be-dba2-42dd-a430-1adff280111f",
        "colab": {
          "base_uri": "https://localhost:8080/"
        }
      },
      "execution_count": 36,
      "outputs": [
        {
          "output_type": "stream",
          "name": "stdout",
          "text": [
            "Accuracy: 0.8222\n"
          ]
        }
      ]
    },
    {
      "cell_type": "markdown",
      "source": [
        "###Test model with a random image"
      ],
      "metadata": {
        "id": "o_ItGKi5jfb3"
      }
    },
    {
      "cell_type": "code",
      "source": [
        "display_rnd_pred(model_2)"
      ],
      "metadata": {
        "id": "lFYEyltHi7Sd",
        "outputId": "afd73122-833d-415c-f27f-3e8b1267a8a6",
        "colab": {
          "base_uri": "https://localhost:8080/",
          "height": 452
        }
      },
      "execution_count": 37,
      "outputs": [
        {
          "output_type": "display_data",
          "data": {
            "text/plain": [
              "<Figure size 640x480 with 1 Axes>"
            ],
            "image/png": "[encoded data removed]"
          },
          "metadata": {}
        }
      ]
    },
    {
      "cell_type": "markdown",
      "source": [
        "## Model SqueezeNet1_1\n",
        "\n",
        "SqueezeNet 1.1 is a compact convolutional neural network (CNN) designed for image classification tasks. It achieves comparable accuracy to larger models like AlexNet while significantly reducing the number of parameters, making it ideal for scenarios where model size and computational efficiency are important\n",
        "\n",
        "<u>Layers</u>: SqueezeNet consists of multiple Fire modules, each containing:\n",
        "\n",
        "*  Squeeze Layers: Use 1x1 filters to reduce the number  of input channels.\n",
        "\n",
        "*   Expand Layers: Use both 1x1 and 3x3 filters to process the compressed inputs.\n",
        "\n",
        "*   Convolutional Layers: The network also includes standard convolutional layers for feature extraction.\n",
        "\n",
        "*   Global Average Pooling: Instead of fully connected layers, it uses global average pooling before the final classification\n",
        "\n",
        "<u>Training</u>: Similarly to VGG16, SqueezeNet was trained on over 1.2 million images from the ImageNet database.\n",
        "\n",
        "<u>Classification</u>: SqueezeNet can classify images into 1,000 object categories, such as animals, keyboards, mice, and pencils.\n",
        "\n",
        "<u>Architecture</u>: SqueezeNet replaces many 3x3 filters with 1x1 filters, drastically reducing the number of parameters.\n",
        "\n",
        "Instead of using fully connected layers, SqueezeNet uses global average pooling at the end of the network,  reducing the number of parameters and memory requirements.\n",
        "\n",
        "SqueezeNet uses Fire Modulesto balance the trade-off between parameter efficiency and model capacity, allowing for high performance with a small footprint.\n",
        "\n",
        "<u>Parameters</u>: SqueezeNet has around 1.2 million parameters\n",
        "\n",
        "<u>Images</u>: the images are resized to resize_size=[256] using interpolation=InterpolationMode.BILINEAR, followed by a central crop of crop_size=[224]. Finally the values are first rescaled to [0.0, 1.0] and then normalized using mean=[0.485, 0.456, 0.406] and std=[0.229, 0.224, 0.225].\n",
        "\n",
        "\n",
        "---\n",
        "\n",
        "References:\n",
        "*squeezenet1_1* — Torchvision main documentation. (s. f.). https://pytorch.org/vision/main/models/generated/torchvision.models.squeezenet1_1.html#torchvision.models.squeezenet1_1\n"
      ],
      "metadata": {
        "id": "EqQel4pOBau_"
      }
    },
    {
      "cell_type": "code",
      "source": [
        "DATA_PATH = '/content/drive/MyDrive/Colab Notebooks/DL/A2C/cifar-10-batches-py'\n",
        "NUM_TRAIN = 45000\n",
        "MINIBATCH_SIZE = 64\n",
        "\n",
        "transform_squeezenet1_1 = T.Compose([T.Resize(size=(224)),\n",
        "                                     T.ToTensor(),\n",
        "                                     T.Normalize(mean=[0.485, 0.456, 0.406], std=[0.229, 0.224, 0.225])\n",
        "                                     ])\n",
        "# Training set loader\n",
        "cifar10_train = datasets.CIFAR10(DATA_PATH, train=True, download=True,\n",
        "                             transform=transform_squeezenet1_1)\n",
        "train_loader = DataLoader(cifar10_train, batch_size=MINIBATCH_SIZE,\n",
        "                          sampler=sampler.SubsetRandomSampler(range(NUM_TRAIN)))\n",
        "\n",
        "# Validation set loader\n",
        "cifar10_val = datasets.CIFAR10(DATA_PATH, train=True, download=True,\n",
        "                           transform=transform_squeezenet1_1)\n",
        "val_loader = DataLoader(cifar10_val, batch_size=MINIBATCH_SIZE,\n",
        "                        sampler=sampler.SubsetRandomSampler(range(NUM_TRAIN, len(cifar10_val))))\n",
        "\n",
        "# Testing set loader\n",
        "cifar10_test = datasets.CIFAR10(DATA_PATH, train=False, download=True,\n",
        "                            transform=transform_squeezenet1_1)\n",
        "test_loader = DataLoader(cifar10_test, batch_size=MINIBATCH_SIZE)"
      ],
      "metadata": {
        "id": "WXFnfQBFINon",
        "outputId": "bf8d7ddb-2ff6-44f8-f74d-b8527f299d67",
        "colab": {
          "base_uri": "https://localhost:8080/"
        }
      },
      "execution_count": 38,
      "outputs": [
        {
          "output_type": "stream",
          "name": "stdout",
          "text": [
            "Files already downloaded and verified\n",
            "Files already downloaded and verified\n",
            "Files already downloaded and verified\n"
          ]
        }
      ]
    },
    {
      "cell_type": "markdown",
      "source": [
        "### Load pre-trained model"
      ],
      "metadata": {
        "id": "cO6W35RBiChe"
      }
    },
    {
      "cell_type": "code",
      "execution_count": 39,
      "metadata": {
        "id": "jtQoUHqqBau_",
        "outputId": "dd29a871-e490-487b-b0d6-652c88e20bb2",
        "colab": {
          "base_uri": "https://localhost:8080/"
        }
      },
      "outputs": [
        {
          "output_type": "stream",
          "name": "stderr",
          "text": [
            "Downloading: \"https://download.pytorch.org/models/squeezenet1_1-b8a52dc0.pth\" to /root/.cache/torch/hub/checkpoints/squeezenet1_1-b8a52dc0.pth\n",
            "100%|██████████| 4.73M/4.73M [00:00<00:00, 34.4MB/s]\n"
          ]
        }
      ],
      "source": [
        "# Load pre-trained model with the weights as defined in SqueezeNet1_1_Weights.IMAGENET1K_V1\n",
        "model_squeezenet1_1 = models.squeezenet1_1(weights='IMAGENET1K_V1')"
      ]
    },
    {
      "cell_type": "code",
      "source": [
        "#\n",
        "# Check the if weights are frozen\n",
        "for i, w in enumerate(model_squeezenet1_1.parameters()):\n",
        "    print(i, w.shape, w.requires_grad)"
      ],
      "metadata": {
        "collapsed": true,
        "id": "Bc7LiNXVBavA",
        "outputId": "080acdeb-97c4-488c-b1da-a8e0ffa78697",
        "colab": {
          "base_uri": "https://localhost:8080/"
        }
      },
      "execution_count": 40,
      "outputs": [
        {
          "output_type": "stream",
          "name": "stdout",
          "text": [
            "0 torch.Size([64, 3, 3, 3]) True\n",
            "1 torch.Size([64]) True\n",
            "2 torch.Size([16, 64, 1, 1]) True\n",
            "3 torch.Size([16]) True\n",
            "4 torch.Size([64, 16, 1, 1]) True\n",
            "5 torch.Size([64]) True\n",
            "6 torch.Size([64, 16, 3, 3]) True\n",
            "7 torch.Size([64]) True\n",
            "8 torch.Size([16, 128, 1, 1]) True\n",
            "9 torch.Size([16]) True\n",
            "10 torch.Size([64, 16, 1, 1]) True\n",
            "11 torch.Size([64]) True\n",
            "12 torch.Size([64, 16, 3, 3]) True\n",
            "13 torch.Size([64]) True\n",
            "14 torch.Size([32, 128, 1, 1]) True\n",
            "15 torch.Size([32]) True\n",
            "16 torch.Size([128, 32, 1, 1]) True\n",
            "17 torch.Size([128]) True\n",
            "18 torch.Size([128, 32, 3, 3]) True\n",
            "19 torch.Size([128]) True\n",
            "20 torch.Size([32, 256, 1, 1]) True\n",
            "21 torch.Size([32]) True\n",
            "22 torch.Size([128, 32, 1, 1]) True\n",
            "23 torch.Size([128]) True\n",
            "24 torch.Size([128, 32, 3, 3]) True\n",
            "25 torch.Size([128]) True\n",
            "26 torch.Size([48, 256, 1, 1]) True\n",
            "27 torch.Size([48]) True\n",
            "28 torch.Size([192, 48, 1, 1]) True\n",
            "29 torch.Size([192]) True\n",
            "30 torch.Size([192, 48, 3, 3]) True\n",
            "31 torch.Size([192]) True\n",
            "32 torch.Size([48, 384, 1, 1]) True\n",
            "33 torch.Size([48]) True\n",
            "34 torch.Size([192, 48, 1, 1]) True\n",
            "35 torch.Size([192]) True\n",
            "36 torch.Size([192, 48, 3, 3]) True\n",
            "37 torch.Size([192]) True\n",
            "38 torch.Size([64, 384, 1, 1]) True\n",
            "39 torch.Size([64]) True\n",
            "40 torch.Size([256, 64, 1, 1]) True\n",
            "41 torch.Size([256]) True\n",
            "42 torch.Size([256, 64, 3, 3]) True\n",
            "43 torch.Size([256]) True\n",
            "44 torch.Size([64, 512, 1, 1]) True\n",
            "45 torch.Size([64]) True\n",
            "46 torch.Size([256, 64, 1, 1]) True\n",
            "47 torch.Size([256]) True\n",
            "48 torch.Size([256, 64, 3, 3]) True\n",
            "49 torch.Size([256]) True\n",
            "50 torch.Size([1000, 512, 1, 1]) True\n",
            "51 torch.Size([1000]) True\n"
          ]
        }
      ]
    },
    {
      "cell_type": "code",
      "source": [
        "model_squeezenet1_1"
      ],
      "metadata": {
        "collapsed": true,
        "id": "_vObOv-TBavA",
        "outputId": "ab17d623-d077-452f-edd2-c45bc66ed7f6",
        "colab": {
          "base_uri": "https://localhost:8080/"
        }
      },
      "execution_count": 41,
      "outputs": [
        {
          "output_type": "execute_result",
          "data": {
            "text/plain": [
              "SqueezeNet(\n",
              "  (features): Sequential(\n",
              "    (0): Conv2d(3, 64, kernel_size=(3, 3), stride=(2, 2))\n",
              "    (1): ReLU(inplace=True)\n",
              "    (2): MaxPool2d(kernel_size=3, stride=2, padding=0, dilation=1, ceil_mode=True)\n",
              "    (3): Fire(\n",
              "      (squeeze): Conv2d(64, 16, kernel_size=(1, 1), stride=(1, 1))\n",
              "      (squeeze_activation): ReLU(inplace=True)\n",
              "      (expand1x1): Conv2d(16, 64, kernel_size=(1, 1), stride=(1, 1))\n",
              "      (expand1x1_activation): ReLU(inplace=True)\n",
              "      (expand3x3): Conv2d(16, 64, kernel_size=(3, 3), stride=(1, 1), padding=(1, 1))\n",
              "      (expand3x3_activation): ReLU(inplace=True)\n",
              "    )\n",
              "    (4): Fire(\n",
              "      (squeeze): Conv2d(128, 16, kernel_size=(1, 1), stride=(1, 1))\n",
              "      (squeeze_activation): ReLU(inplace=True)\n",
              "      (expand1x1): Conv2d(16, 64, kernel_size=(1, 1), stride=(1, 1))\n",
              "      (expand1x1_activation): ReLU(inplace=True)\n",
              "      (expand3x3): Conv2d(16, 64, kernel_size=(3, 3), stride=(1, 1), padding=(1, 1))\n",
              "      (expand3x3_activation): ReLU(inplace=True)\n",
              "    )\n",
              "    (5): MaxPool2d(kernel_size=3, stride=2, padding=0, dilation=1, ceil_mode=True)\n",
              "    (6): Fire(\n",
              "      (squeeze): Conv2d(128, 32, kernel_size=(1, 1), stride=(1, 1))\n",
              "      (squeeze_activation): ReLU(inplace=True)\n",
              "      (expand1x1): Conv2d(32, 128, kernel_size=(1, 1), stride=(1, 1))\n",
              "      (expand1x1_activation): ReLU(inplace=True)\n",
              "      (expand3x3): Conv2d(32, 128, kernel_size=(3, 3), stride=(1, 1), padding=(1, 1))\n",
              "      (expand3x3_activation): ReLU(inplace=True)\n",
              "    )\n",
              "    (7): Fire(\n",
              "      (squeeze): Conv2d(256, 32, kernel_size=(1, 1), stride=(1, 1))\n",
              "      (squeeze_activation): ReLU(inplace=True)\n",
              "      (expand1x1): Conv2d(32, 128, kernel_size=(1, 1), stride=(1, 1))\n",
              "      (expand1x1_activation): ReLU(inplace=True)\n",
              "      (expand3x3): Conv2d(32, 128, kernel_size=(3, 3), stride=(1, 1), padding=(1, 1))\n",
              "      (expand3x3_activation): ReLU(inplace=True)\n",
              "    )\n",
              "    (8): MaxPool2d(kernel_size=3, stride=2, padding=0, dilation=1, ceil_mode=True)\n",
              "    (9): Fire(\n",
              "      (squeeze): Conv2d(256, 48, kernel_size=(1, 1), stride=(1, 1))\n",
              "      (squeeze_activation): ReLU(inplace=True)\n",
              "      (expand1x1): Conv2d(48, 192, kernel_size=(1, 1), stride=(1, 1))\n",
              "      (expand1x1_activation): ReLU(inplace=True)\n",
              "      (expand3x3): Conv2d(48, 192, kernel_size=(3, 3), stride=(1, 1), padding=(1, 1))\n",
              "      (expand3x3_activation): ReLU(inplace=True)\n",
              "    )\n",
              "    (10): Fire(\n",
              "      (squeeze): Conv2d(384, 48, kernel_size=(1, 1), stride=(1, 1))\n",
              "      (squeeze_activation): ReLU(inplace=True)\n",
              "      (expand1x1): Conv2d(48, 192, kernel_size=(1, 1), stride=(1, 1))\n",
              "      (expand1x1_activation): ReLU(inplace=True)\n",
              "      (expand3x3): Conv2d(48, 192, kernel_size=(3, 3), stride=(1, 1), padding=(1, 1))\n",
              "      (expand3x3_activation): ReLU(inplace=True)\n",
              "    )\n",
              "    (11): Fire(\n",
              "      (squeeze): Conv2d(384, 64, kernel_size=(1, 1), stride=(1, 1))\n",
              "      (squeeze_activation): ReLU(inplace=True)\n",
              "      (expand1x1): Conv2d(64, 256, kernel_size=(1, 1), stride=(1, 1))\n",
              "      (expand1x1_activation): ReLU(inplace=True)\n",
              "      (expand3x3): Conv2d(64, 256, kernel_size=(3, 3), stride=(1, 1), padding=(1, 1))\n",
              "      (expand3x3_activation): ReLU(inplace=True)\n",
              "    )\n",
              "    (12): Fire(\n",
              "      (squeeze): Conv2d(512, 64, kernel_size=(1, 1), stride=(1, 1))\n",
              "      (squeeze_activation): ReLU(inplace=True)\n",
              "      (expand1x1): Conv2d(64, 256, kernel_size=(1, 1), stride=(1, 1))\n",
              "      (expand1x1_activation): ReLU(inplace=True)\n",
              "      (expand3x3): Conv2d(64, 256, kernel_size=(3, 3), stride=(1, 1), padding=(1, 1))\n",
              "      (expand3x3_activation): ReLU(inplace=True)\n",
              "    )\n",
              "  )\n",
              "  (classifier): Sequential(\n",
              "    (0): Dropout(p=0.5, inplace=False)\n",
              "    (1): Conv2d(512, 1000, kernel_size=(1, 1), stride=(1, 1))\n",
              "    (2): ReLU(inplace=True)\n",
              "    (3): AdaptiveAvgPool2d(output_size=(1, 1))\n",
              "  )\n",
              ")"
            ]
          },
          "metadata": {},
          "execution_count": 41
        }
      ]
    },
    {
      "cell_type": "code",
      "source": [
        "# Avoid the calculation of gradients during backpropagation by freezeing the weights\n",
        "for i, parameter in enumerate(model_squeezenet1_1.parameters()):\n",
        "    parameter.requires_grad = False"
      ],
      "metadata": {
        "id": "l7V8jF46BavB"
      },
      "execution_count": 42,
      "outputs": []
    },
    {
      "cell_type": "code",
      "source": [
        "# Verify all parameters were set correctly\n",
        "for i, parameter in enumerate(model_squeezenet1_1.parameters()):\n",
        "    print(f'{i}: Require Parameter: {parameter.requires_grad}')"
      ],
      "metadata": {
        "collapsed": true,
        "id": "r_3jg1tVBavB",
        "outputId": "295ac977-b7bf-4053-f4bc-8e56f616b198",
        "colab": {
          "base_uri": "https://localhost:8080/"
        }
      },
      "execution_count": 43,
      "outputs": [
        {
          "output_type": "stream",
          "name": "stdout",
          "text": [
            "0: Require Parameter: False\n",
            "1: Require Parameter: False\n",
            "2: Require Parameter: False\n",
            "3: Require Parameter: False\n",
            "4: Require Parameter: False\n",
            "5: Require Parameter: False\n",
            "6: Require Parameter: False\n",
            "7: Require Parameter: False\n",
            "8: Require Parameter: False\n",
            "9: Require Parameter: False\n",
            "10: Require Parameter: False\n",
            "11: Require Parameter: False\n",
            "12: Require Parameter: False\n",
            "13: Require Parameter: False\n",
            "14: Require Parameter: False\n",
            "15: Require Parameter: False\n",
            "16: Require Parameter: False\n",
            "17: Require Parameter: False\n",
            "18: Require Parameter: False\n",
            "19: Require Parameter: False\n",
            "20: Require Parameter: False\n",
            "21: Require Parameter: False\n",
            "22: Require Parameter: False\n",
            "23: Require Parameter: False\n",
            "24: Require Parameter: False\n",
            "25: Require Parameter: False\n",
            "26: Require Parameter: False\n",
            "27: Require Parameter: False\n",
            "28: Require Parameter: False\n",
            "29: Require Parameter: False\n",
            "30: Require Parameter: False\n",
            "31: Require Parameter: False\n",
            "32: Require Parameter: False\n",
            "33: Require Parameter: False\n",
            "34: Require Parameter: False\n",
            "35: Require Parameter: False\n",
            "36: Require Parameter: False\n",
            "37: Require Parameter: False\n",
            "38: Require Parameter: False\n",
            "39: Require Parameter: False\n",
            "40: Require Parameter: False\n",
            "41: Require Parameter: False\n",
            "42: Require Parameter: False\n",
            "43: Require Parameter: False\n",
            "44: Require Parameter: False\n",
            "45: Require Parameter: False\n",
            "46: Require Parameter: False\n",
            "47: Require Parameter: False\n",
            "48: Require Parameter: False\n",
            "49: Require Parameter: False\n",
            "50: Require Parameter: False\n",
            "51: Require Parameter: False\n"
          ]
        }
      ]
    },
    {
      "cell_type": "code",
      "source": [
        "# Modify the classifier of the SqueezeNet 1.1 model to set the number of outputs\n",
        "# to the number of classes in our dataset\n",
        "model_squeezenet1_1.classifier = nn.Sequential(\n",
        "    nn.Dropout(p=0.5),\n",
        "    nn.Conv2d(512, 10, kernel_size=(1, 1), stride=(1, 1)),  # Set convolutional layer with 512 input channels and 10 output classes\n",
        "    nn.ReLU(inplace=True),\n",
        "    nn.AdaptiveAvgPool2d(output_size=(1, 1))\n",
        ")\n"
      ],
      "metadata": {
        "id": "Het9UClL6vD7"
      },
      "execution_count": 44,
      "outputs": []
    },
    {
      "cell_type": "code",
      "source": [
        "# Verify that the pre-trained model correctly reflects the number of classes\n",
        "# in our dataset\n",
        "model_squeezenet1_1"
      ],
      "metadata": {
        "id": "uCs4pt7v60vh",
        "outputId": "bb9f5be6-c7e1-4e4c-f5aa-21d37b651ce3",
        "colab": {
          "base_uri": "https://localhost:8080/"
        }
      },
      "execution_count": 45,
      "outputs": [
        {
          "output_type": "execute_result",
          "data": {
            "text/plain": [
              "SqueezeNet(\n",
              "  (features): Sequential(\n",
              "    (0): Conv2d(3, 64, kernel_size=(3, 3), stride=(2, 2))\n",
              "    (1): ReLU(inplace=True)\n",
              "    (2): MaxPool2d(kernel_size=3, stride=2, padding=0, dilation=1, ceil_mode=True)\n",
              "    (3): Fire(\n",
              "      (squeeze): Conv2d(64, 16, kernel_size=(1, 1), stride=(1, 1))\n",
              "      (squeeze_activation): ReLU(inplace=True)\n",
              "      (expand1x1): Conv2d(16, 64, kernel_size=(1, 1), stride=(1, 1))\n",
              "      (expand1x1_activation): ReLU(inplace=True)\n",
              "      (expand3x3): Conv2d(16, 64, kernel_size=(3, 3), stride=(1, 1), padding=(1, 1))\n",
              "      (expand3x3_activation): ReLU(inplace=True)\n",
              "    )\n",
              "    (4): Fire(\n",
              "      (squeeze): Conv2d(128, 16, kernel_size=(1, 1), stride=(1, 1))\n",
              "      (squeeze_activation): ReLU(inplace=True)\n",
              "      (expand1x1): Conv2d(16, 64, kernel_size=(1, 1), stride=(1, 1))\n",
              "      (expand1x1_activation): ReLU(inplace=True)\n",
              "      (expand3x3): Conv2d(16, 64, kernel_size=(3, 3), stride=(1, 1), padding=(1, 1))\n",
              "      (expand3x3_activation): ReLU(inplace=True)\n",
              "    )\n",
              "    (5): MaxPool2d(kernel_size=3, stride=2, padding=0, dilation=1, ceil_mode=True)\n",
              "    (6): Fire(\n",
              "      (squeeze): Conv2d(128, 32, kernel_size=(1, 1), stride=(1, 1))\n",
              "      (squeeze_activation): ReLU(inplace=True)\n",
              "      (expand1x1): Conv2d(32, 128, kernel_size=(1, 1), stride=(1, 1))\n",
              "      (expand1x1_activation): ReLU(inplace=True)\n",
              "      (expand3x3): Conv2d(32, 128, kernel_size=(3, 3), stride=(1, 1), padding=(1, 1))\n",
              "      (expand3x3_activation): ReLU(inplace=True)\n",
              "    )\n",
              "    (7): Fire(\n",
              "      (squeeze): Conv2d(256, 32, kernel_size=(1, 1), stride=(1, 1))\n",
              "      (squeeze_activation): ReLU(inplace=True)\n",
              "      (expand1x1): Conv2d(32, 128, kernel_size=(1, 1), stride=(1, 1))\n",
              "      (expand1x1_activation): ReLU(inplace=True)\n",
              "      (expand3x3): Conv2d(32, 128, kernel_size=(3, 3), stride=(1, 1), padding=(1, 1))\n",
              "      (expand3x3_activation): ReLU(inplace=True)\n",
              "    )\n",
              "    (8): MaxPool2d(kernel_size=3, stride=2, padding=0, dilation=1, ceil_mode=True)\n",
              "    (9): Fire(\n",
              "      (squeeze): Conv2d(256, 48, kernel_size=(1, 1), stride=(1, 1))\n",
              "      (squeeze_activation): ReLU(inplace=True)\n",
              "      (expand1x1): Conv2d(48, 192, kernel_size=(1, 1), stride=(1, 1))\n",
              "      (expand1x1_activation): ReLU(inplace=True)\n",
              "      (expand3x3): Conv2d(48, 192, kernel_size=(3, 3), stride=(1, 1), padding=(1, 1))\n",
              "      (expand3x3_activation): ReLU(inplace=True)\n",
              "    )\n",
              "    (10): Fire(\n",
              "      (squeeze): Conv2d(384, 48, kernel_size=(1, 1), stride=(1, 1))\n",
              "      (squeeze_activation): ReLU(inplace=True)\n",
              "      (expand1x1): Conv2d(48, 192, kernel_size=(1, 1), stride=(1, 1))\n",
              "      (expand1x1_activation): ReLU(inplace=True)\n",
              "      (expand3x3): Conv2d(48, 192, kernel_size=(3, 3), stride=(1, 1), padding=(1, 1))\n",
              "      (expand3x3_activation): ReLU(inplace=True)\n",
              "    )\n",
              "    (11): Fire(\n",
              "      (squeeze): Conv2d(384, 64, kernel_size=(1, 1), stride=(1, 1))\n",
              "      (squeeze_activation): ReLU(inplace=True)\n",
              "      (expand1x1): Conv2d(64, 256, kernel_size=(1, 1), stride=(1, 1))\n",
              "      (expand1x1_activation): ReLU(inplace=True)\n",
              "      (expand3x3): Conv2d(64, 256, kernel_size=(3, 3), stride=(1, 1), padding=(1, 1))\n",
              "      (expand3x3_activation): ReLU(inplace=True)\n",
              "    )\n",
              "    (12): Fire(\n",
              "      (squeeze): Conv2d(512, 64, kernel_size=(1, 1), stride=(1, 1))\n",
              "      (squeeze_activation): ReLU(inplace=True)\n",
              "      (expand1x1): Conv2d(64, 256, kernel_size=(1, 1), stride=(1, 1))\n",
              "      (expand1x1_activation): ReLU(inplace=True)\n",
              "      (expand3x3): Conv2d(64, 256, kernel_size=(3, 3), stride=(1, 1), padding=(1, 1))\n",
              "      (expand3x3_activation): ReLU(inplace=True)\n",
              "    )\n",
              "  )\n",
              "  (classifier): Sequential(\n",
              "    (0): Dropout(p=0.5, inplace=False)\n",
              "    (1): Conv2d(512, 10, kernel_size=(1, 1), stride=(1, 1))\n",
              "    (2): ReLU(inplace=True)\n",
              "    (3): AdaptiveAvgPool2d(output_size=(1, 1))\n",
              "  )\n",
              ")"
            ]
          },
          "metadata": {},
          "execution_count": 45
        }
      ]
    },
    {
      "cell_type": "code",
      "source": [
        "# Define learning rate and number of training epochs\n",
        "lr = 0.0001  # Learning rate: controls the step size for parameter updates\n",
        "epochs = 3   # Number of epochs to train the model\n",
        "\n",
        "# Assign the SqueezeNet model to model_3 for consistency across the notebook\n",
        "model_3 = model_squeezenet1_1\n",
        "\n",
        "# Define the optimizer using Adam optimization algorithm\n",
        "optimiser = torch.optim.Adam(\n",
        "    model_3.parameters(),\n",
        "    lr=lr,\n",
        "    betas=(0.9, 0.999)\n",
        ")\n"
      ],
      "metadata": {
        "id": "lEKAQAqzBavB"
      },
      "execution_count": 46,
      "outputs": []
    },
    {
      "cell_type": "markdown",
      "source": [
        "### Train the Model"
      ],
      "metadata": {
        "id": "vIFqlcAlhwO2"
      }
    },
    {
      "cell_type": "code",
      "source": [
        "# Train the model\n",
        "train(model_3, optimiser, epochs)"
      ],
      "metadata": {
        "id": "XOuaSy0tBavB",
        "outputId": "5ca31978-0f0d-4a2a-f882-67cbc8fddb7a",
        "colab": {
          "base_uri": "https://localhost:8080/"
        }
      },
      "execution_count": 47,
      "outputs": [
        {
          "output_type": "stream",
          "name": "stdout",
          "text": [
            "Epoch: 0, costo: 0.46961483359336853, accuracy: 0.7438,\n",
            "Epoch: 1, costo: 0.1405954360961914, accuracy: 0.7904,\n",
            "Epoch: 2, costo: 0.5862035155296326, accuracy: 0.8094,\n"
          ]
        }
      ]
    },
    {
      "cell_type": "markdown",
      "source": [
        "###Calculate SqueezeNet Model Accuracy with Test Dataset"
      ],
      "metadata": {
        "id": "_13BybnHh1nI"
      }
    },
    {
      "cell_type": "code",
      "source": [
        "print(f'Accuracy: {accuracy(model_3, test_loader)}')"
      ],
      "metadata": {
        "id": "XZpnp3DIFajv",
        "outputId": "848d4063-57ee-4143-fe60-7582dd5502d1",
        "colab": {
          "base_uri": "https://localhost:8080/"
        }
      },
      "execution_count": 48,
      "outputs": [
        {
          "output_type": "stream",
          "name": "stdout",
          "text": [
            "Accuracy: 0.8\n"
          ]
        }
      ]
    },
    {
      "cell_type": "markdown",
      "source": [
        "###Test model with a random image"
      ],
      "metadata": {
        "id": "a0-9lS39jrCA"
      }
    },
    {
      "cell_type": "code",
      "source": [
        "display_rnd_pred(model_3)"
      ],
      "metadata": {
        "colab": {
          "base_uri": "https://localhost:8080/",
          "height": 452
        },
        "id": "Qj2HmAxfjpTv",
        "outputId": "d77955c8-675b-462d-db54-3d123a723b9f"
      },
      "execution_count": 49,
      "outputs": [
        {
          "output_type": "display_data",
          "data": {
            "text/plain": [
              "<Figure size 640x480 with 1 Axes>"
            ],
            "image/png": "[encoded data removed]"
          },
          "metadata": {}
        }
      ]
    },
    {
      "cell_type": "code",
      "source": [],
      "metadata": {
        "id": "AmrudrvPqhqk"
      },
      "execution_count": 49,
      "outputs": []
    },
    {
      "cell_type": "markdown",
      "source": [
        "# Evaluation of Pre-trained Models on CIFAR10 Dataset\n",
        "\n",
        "In this analysis, we evaluate the performance of three pre-trained models: VGG16, SqueezeNet, and ResNet18 on the CIFAR10 dataset. The models were trained using the provided training code, and their accuracies were calculated using the accuracy function. Below are the results and a comparison of the models' performance.\n",
        "\n",
        "It's important to notice that the number of epochs was kept constant for all models to 3 while the learning rates where set to minimize the loss while increasing the accuracy during the 3 epochs\n",
        "\n",
        "## ResNet18 Model\n",
        "\n",
        "### Model Architecture\n",
        "```plaintext\n",
        "Sequential(\n",
        "  (0): Sequential(\n",
        "    (0): Conv2d(3, 64, kernel_size=(7, 7), stride=(2, 2), padding=(3, 3), bias=False)\n",
        "    ...\n",
        "    (8): AdaptiveAvgPool2d(output_size=(1, 1))\n",
        "  )\n",
        "  (1): Flatten(start_dim=1, end_dim=-1)\n",
        "  (2): Linear(in_features=512, out_features=10, bias=True)\n",
        ")\n",
        "```\n",
        "\n",
        "### Training Parameters\n",
        "- Learning Rate: 0.0005\n",
        "- Epochs: 3\n",
        "\n",
        "### Model Output\n",
        "```plaintext\n",
        "Epoch: 0, costo: 1.036940574645996, accuracy: 0.7742,\n",
        "Epoch: 1, costo: 0.7472242116928101, accuracy: 0.7878,\n",
        "Epoch: 2, costo: 1.3116583824157715, accuracy: 0.7988,\n",
        "```\n",
        "\n",
        "### Final Accuracy\n",
        "- **Accuracy: 0.7971**\n",
        "\n",
        "## VGG16 Model\n",
        "\n",
        "### Model Architecture\n",
        "```plaintext\n",
        "Sequential(\n",
        "  (0): Sequential(\n",
        "    (0): Conv2d(3, 64, kernel_size=(3, 3), stride=(1, 1), padding=(1, 1))\n",
        "    (1): ReLU(inplace=True)\n",
        "    ...\n",
        "    (30): MaxPool2d(kernel_size=2, stride=2, padding=0, dilation=1, ceil_mode=False)\n",
        "  )\n",
        "  (1): AdaptiveAvgPool2d(output_size=(7, 7))\n",
        "  (2): Flatten(start_dim=1, end_dim=-1)\n",
        "  (3): Sequential(\n",
        "    (0): Linear(in_features=25088, out_features=4096, bias=True)\n",
        "    ...\n",
        "    (6): Linear(in_features=4096, out_features=10, bias=True)\n",
        "  )\n",
        ")\n",
        "```\n",
        "\n",
        "### Training Parameters\n",
        "- Learning Rate: 0.0005\n",
        "- Epochs: 3\n",
        "\n",
        "### Model Output\n",
        "```plaintext\n",
        "Epoch: 0, costo: 1.0359162092208862, accuracy: 0.811,\n",
        "Epoch: 1, costo: 0.7504687309265137, accuracy: 0.8268,\n",
        "Epoch: 2, costo: 0.9735037684440613, accuracy: 0.8298,\n",
        "\n",
        "```\n",
        "\n",
        "### Final Accuracy\n",
        "- **Accuracy: 0.8222**\n",
        "\n",
        "## SqueezeNet Model\n",
        "\n",
        "### Training Parameters\n",
        "- Learning Rate: 0.0001\n",
        "- Epochs: 3\n",
        "\n",
        "### Model Output\n",
        "```plaintext\n",
        "Epoch: 0, costo: 0.46961483359336853, accuracy: 0.7438,\n",
        "Epoch: 1, costo: 0.1405954360961914, accuracy: 0.7904,\n",
        "Epoch: 2, costo: 0.5862035155296326, accuracy: 0.8094,\n",
        "\n",
        "```\n",
        "\n",
        "### Final Accuracy\n",
        "- **Accuracy: 0.8**\n",
        "\n",
        "\n",
        "\n",
        "## Comparison and Insights\n",
        "\n",
        "- **ResNet18** achieved an accuracy of 0.7971. Its residual connections help in training deeper networks by mitigating the vanishing gradient problem.\n",
        "- **VGG16** achieved the highest accuracy of 0.822. This model is known for its deep architecture with multiple convolutional layers, which allows it to capture complex patterns in the data.\n",
        "- **SqueezeNet** had an accuracy of 0.8. Despite its smaller size and fewer parameters, it performed reasonably well, making it a good choice for resource-constrained environments.\n",
        "\n",
        "\n",
        "### Challenges and Insights\n",
        "\n",
        "- **Training Time**: VGG16, being a deeper network, took longer to train compared to SqueezeNet and ResNet18.\n",
        "- **Overfitting**: The VGG16 model showed signs of overfitting, as indicated by the increase in cost during the last epoch.\n",
        "- **Model Complexity**: The complexity of VGG16 allows it to achieve higher accuracy, but at the cost of increased computational resources.\n",
        "\n",
        "In conclusion, the choice of model depends on the specific requirements of the task, such as accuracy, computational resources, and training time. VGG16 is suitable for tasks where accuracy is important, while SqueezeNet offers a good balance between performance and resource efficiency."
      ],
      "metadata": {
        "id": "bJGe3GAsqlEi"
      }
    }
  ],
  "metadata": {
    "kernelspec": {
      "display_name": "Python 3",
      "name": "python3"
    },
    "language_info": {
      "codemirror_mode": {
        "name": "ipython",
        "version": 3
      },
      "file_extension": ".py",
      "mimetype": "text/x-python",
      "name": "python",
      "nbconvert_exporter": "python",
      "pygments_lexer": "ipython3",
      "version": "3.9.0"
    },
    "toc": {
      "base_numbering": 1,
      "nav_menu": {},
      "number_sections": true,
      "sideBar": true,
      "skip_h1_title": false,
      "title_cell": "Table of Contents",
      "title_sidebar": "Contents",
      "toc_cell": false,
      "toc_position": {},
      "toc_section_display": true,
      "toc_window_display": false
    },
    "varInspector": {
      "cols": {
        "lenName": 16,
        "lenType": 16,
        "lenVar": 40
      },
      "kernels_config": {
        "python": {
          "delete_cmd_postfix": "",
          "delete_cmd_prefix": "del ",
          "library": "var_list.py",
          "varRefreshCmd": "print(var_dic_list())"
        },
        "r": {
          "delete_cmd_postfix": ") ",
          "delete_cmd_prefix": "rm(",
          "library": "var_list.r",
          "varRefreshCmd": "cat(var_dic_list()) "
        }
      },
      "types_to_exclude": [
        "module",
        "function",
        "builtin_function_or_method",
        "instance",
        "_Feature"
      ],
      "window_display": false
    },
    "colab": {
      "provenance": [],
      "gpuType": "T4",
      "include_colab_link": true
    },
    "accelerator": "GPU"
  },
  "nbformat": 4,
  "nbformat_minor": 0
}